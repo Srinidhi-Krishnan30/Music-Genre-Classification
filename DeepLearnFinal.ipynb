{
 "cells": [
  {
   "cell_type": "markdown",
   "metadata": {},
   "source": [
    "Data Loading"
   ]
  },
  {
   "cell_type": "code",
   "execution_count": 1,
   "metadata": {},
   "outputs": [
    {
     "ename": "FileNotFoundError",
     "evalue": "[Errno 2] No such file or directory: 'song_artist.csv'",
     "output_type": "error",
     "traceback": [
      "\u001b[1;31m---------------------------------------------------------------------------\u001b[0m",
      "\u001b[1;31mFileNotFoundError\u001b[0m                         Traceback (most recent call last)",
      "Cell \u001b[1;32mIn[1], line 11\u001b[0m\n\u001b[0;32m      6\u001b[0m \u001b[38;5;28;01mfrom\u001b[39;00m \u001b[38;5;21;01mkeras\u001b[39;00m\u001b[38;5;21;01m.\u001b[39;00m\u001b[38;5;21;01mlayers\u001b[39;00m \u001b[38;5;28;01mimport\u001b[39;00m Dense\n\u001b[0;32m      8\u001b[0m \u001b[38;5;66;03m# Step 1: Data Preprocessing\u001b[39;00m\n\u001b[0;32m      9\u001b[0m \u001b[38;5;66;03m# Load the two CSV files\u001b[39;00m\n\u001b[1;32m---> 11\u001b[0m data \u001b[38;5;241m=\u001b[39m \u001b[43mpd\u001b[49m\u001b[38;5;241;43m.\u001b[39;49m\u001b[43mread_csv\u001b[49m\u001b[43m(\u001b[49m\u001b[38;5;124;43m\"\u001b[39;49m\u001b[38;5;124;43msong_artist.csv\u001b[39;49m\u001b[38;5;124;43m\"\u001b[39;49m\u001b[43m)\u001b[49m\n",
      "File \u001b[1;32mc:\\Users\\kadal\\AppData\\Local\\Programs\\Python\\Python311\\Lib\\site-packages\\pandas\\io\\parsers\\readers.py:912\u001b[0m, in \u001b[0;36mread_csv\u001b[1;34m(filepath_or_buffer, sep, delimiter, header, names, index_col, usecols, dtype, engine, converters, true_values, false_values, skipinitialspace, skiprows, skipfooter, nrows, na_values, keep_default_na, na_filter, verbose, skip_blank_lines, parse_dates, infer_datetime_format, keep_date_col, date_parser, date_format, dayfirst, cache_dates, iterator, chunksize, compression, thousands, decimal, lineterminator, quotechar, quoting, doublequote, escapechar, comment, encoding, encoding_errors, dialect, on_bad_lines, delim_whitespace, low_memory, memory_map, float_precision, storage_options, dtype_backend)\u001b[0m\n\u001b[0;32m    899\u001b[0m kwds_defaults \u001b[38;5;241m=\u001b[39m _refine_defaults_read(\n\u001b[0;32m    900\u001b[0m     dialect,\n\u001b[0;32m    901\u001b[0m     delimiter,\n\u001b[1;32m   (...)\u001b[0m\n\u001b[0;32m    908\u001b[0m     dtype_backend\u001b[38;5;241m=\u001b[39mdtype_backend,\n\u001b[0;32m    909\u001b[0m )\n\u001b[0;32m    910\u001b[0m kwds\u001b[38;5;241m.\u001b[39mupdate(kwds_defaults)\n\u001b[1;32m--> 912\u001b[0m \u001b[38;5;28;01mreturn\u001b[39;00m \u001b[43m_read\u001b[49m\u001b[43m(\u001b[49m\u001b[43mfilepath_or_buffer\u001b[49m\u001b[43m,\u001b[49m\u001b[43m \u001b[49m\u001b[43mkwds\u001b[49m\u001b[43m)\u001b[49m\n",
      "File \u001b[1;32mc:\\Users\\kadal\\AppData\\Local\\Programs\\Python\\Python311\\Lib\\site-packages\\pandas\\io\\parsers\\readers.py:577\u001b[0m, in \u001b[0;36m_read\u001b[1;34m(filepath_or_buffer, kwds)\u001b[0m\n\u001b[0;32m    574\u001b[0m _validate_names(kwds\u001b[38;5;241m.\u001b[39mget(\u001b[38;5;124m\"\u001b[39m\u001b[38;5;124mnames\u001b[39m\u001b[38;5;124m\"\u001b[39m, \u001b[38;5;28;01mNone\u001b[39;00m))\n\u001b[0;32m    576\u001b[0m \u001b[38;5;66;03m# Create the parser.\u001b[39;00m\n\u001b[1;32m--> 577\u001b[0m parser \u001b[38;5;241m=\u001b[39m \u001b[43mTextFileReader\u001b[49m\u001b[43m(\u001b[49m\u001b[43mfilepath_or_buffer\u001b[49m\u001b[43m,\u001b[49m\u001b[43m \u001b[49m\u001b[38;5;241;43m*\u001b[39;49m\u001b[38;5;241;43m*\u001b[39;49m\u001b[43mkwds\u001b[49m\u001b[43m)\u001b[49m\n\u001b[0;32m    579\u001b[0m \u001b[38;5;28;01mif\u001b[39;00m chunksize \u001b[38;5;129;01mor\u001b[39;00m iterator:\n\u001b[0;32m    580\u001b[0m     \u001b[38;5;28;01mreturn\u001b[39;00m parser\n",
      "File \u001b[1;32mc:\\Users\\kadal\\AppData\\Local\\Programs\\Python\\Python311\\Lib\\site-packages\\pandas\\io\\parsers\\readers.py:1407\u001b[0m, in \u001b[0;36mTextFileReader.__init__\u001b[1;34m(self, f, engine, **kwds)\u001b[0m\n\u001b[0;32m   1404\u001b[0m     \u001b[38;5;28mself\u001b[39m\u001b[38;5;241m.\u001b[39moptions[\u001b[38;5;124m\"\u001b[39m\u001b[38;5;124mhas_index_names\u001b[39m\u001b[38;5;124m\"\u001b[39m] \u001b[38;5;241m=\u001b[39m kwds[\u001b[38;5;124m\"\u001b[39m\u001b[38;5;124mhas_index_names\u001b[39m\u001b[38;5;124m\"\u001b[39m]\n\u001b[0;32m   1406\u001b[0m \u001b[38;5;28mself\u001b[39m\u001b[38;5;241m.\u001b[39mhandles: IOHandles \u001b[38;5;241m|\u001b[39m \u001b[38;5;28;01mNone\u001b[39;00m \u001b[38;5;241m=\u001b[39m \u001b[38;5;28;01mNone\u001b[39;00m\n\u001b[1;32m-> 1407\u001b[0m \u001b[38;5;28mself\u001b[39m\u001b[38;5;241m.\u001b[39m_engine \u001b[38;5;241m=\u001b[39m \u001b[38;5;28;43mself\u001b[39;49m\u001b[38;5;241;43m.\u001b[39;49m\u001b[43m_make_engine\u001b[49m\u001b[43m(\u001b[49m\u001b[43mf\u001b[49m\u001b[43m,\u001b[49m\u001b[43m \u001b[49m\u001b[38;5;28;43mself\u001b[39;49m\u001b[38;5;241;43m.\u001b[39;49m\u001b[43mengine\u001b[49m\u001b[43m)\u001b[49m\n",
      "File \u001b[1;32mc:\\Users\\kadal\\AppData\\Local\\Programs\\Python\\Python311\\Lib\\site-packages\\pandas\\io\\parsers\\readers.py:1661\u001b[0m, in \u001b[0;36mTextFileReader._make_engine\u001b[1;34m(self, f, engine)\u001b[0m\n\u001b[0;32m   1659\u001b[0m     \u001b[38;5;28;01mif\u001b[39;00m \u001b[38;5;124m\"\u001b[39m\u001b[38;5;124mb\u001b[39m\u001b[38;5;124m\"\u001b[39m \u001b[38;5;129;01mnot\u001b[39;00m \u001b[38;5;129;01min\u001b[39;00m mode:\n\u001b[0;32m   1660\u001b[0m         mode \u001b[38;5;241m+\u001b[39m\u001b[38;5;241m=\u001b[39m \u001b[38;5;124m\"\u001b[39m\u001b[38;5;124mb\u001b[39m\u001b[38;5;124m\"\u001b[39m\n\u001b[1;32m-> 1661\u001b[0m \u001b[38;5;28mself\u001b[39m\u001b[38;5;241m.\u001b[39mhandles \u001b[38;5;241m=\u001b[39m \u001b[43mget_handle\u001b[49m\u001b[43m(\u001b[49m\n\u001b[0;32m   1662\u001b[0m \u001b[43m    \u001b[49m\u001b[43mf\u001b[49m\u001b[43m,\u001b[49m\n\u001b[0;32m   1663\u001b[0m \u001b[43m    \u001b[49m\u001b[43mmode\u001b[49m\u001b[43m,\u001b[49m\n\u001b[0;32m   1664\u001b[0m \u001b[43m    \u001b[49m\u001b[43mencoding\u001b[49m\u001b[38;5;241;43m=\u001b[39;49m\u001b[38;5;28;43mself\u001b[39;49m\u001b[38;5;241;43m.\u001b[39;49m\u001b[43moptions\u001b[49m\u001b[38;5;241;43m.\u001b[39;49m\u001b[43mget\u001b[49m\u001b[43m(\u001b[49m\u001b[38;5;124;43m\"\u001b[39;49m\u001b[38;5;124;43mencoding\u001b[39;49m\u001b[38;5;124;43m\"\u001b[39;49m\u001b[43m,\u001b[49m\u001b[43m \u001b[49m\u001b[38;5;28;43;01mNone\u001b[39;49;00m\u001b[43m)\u001b[49m\u001b[43m,\u001b[49m\n\u001b[0;32m   1665\u001b[0m \u001b[43m    \u001b[49m\u001b[43mcompression\u001b[49m\u001b[38;5;241;43m=\u001b[39;49m\u001b[38;5;28;43mself\u001b[39;49m\u001b[38;5;241;43m.\u001b[39;49m\u001b[43moptions\u001b[49m\u001b[38;5;241;43m.\u001b[39;49m\u001b[43mget\u001b[49m\u001b[43m(\u001b[49m\u001b[38;5;124;43m\"\u001b[39;49m\u001b[38;5;124;43mcompression\u001b[39;49m\u001b[38;5;124;43m\"\u001b[39;49m\u001b[43m,\u001b[49m\u001b[43m \u001b[49m\u001b[38;5;28;43;01mNone\u001b[39;49;00m\u001b[43m)\u001b[49m\u001b[43m,\u001b[49m\n\u001b[0;32m   1666\u001b[0m \u001b[43m    \u001b[49m\u001b[43mmemory_map\u001b[49m\u001b[38;5;241;43m=\u001b[39;49m\u001b[38;5;28;43mself\u001b[39;49m\u001b[38;5;241;43m.\u001b[39;49m\u001b[43moptions\u001b[49m\u001b[38;5;241;43m.\u001b[39;49m\u001b[43mget\u001b[49m\u001b[43m(\u001b[49m\u001b[38;5;124;43m\"\u001b[39;49m\u001b[38;5;124;43mmemory_map\u001b[39;49m\u001b[38;5;124;43m\"\u001b[39;49m\u001b[43m,\u001b[49m\u001b[43m \u001b[49m\u001b[38;5;28;43;01mFalse\u001b[39;49;00m\u001b[43m)\u001b[49m\u001b[43m,\u001b[49m\n\u001b[0;32m   1667\u001b[0m \u001b[43m    \u001b[49m\u001b[43mis_text\u001b[49m\u001b[38;5;241;43m=\u001b[39;49m\u001b[43mis_text\u001b[49m\u001b[43m,\u001b[49m\n\u001b[0;32m   1668\u001b[0m \u001b[43m    \u001b[49m\u001b[43merrors\u001b[49m\u001b[38;5;241;43m=\u001b[39;49m\u001b[38;5;28;43mself\u001b[39;49m\u001b[38;5;241;43m.\u001b[39;49m\u001b[43moptions\u001b[49m\u001b[38;5;241;43m.\u001b[39;49m\u001b[43mget\u001b[49m\u001b[43m(\u001b[49m\u001b[38;5;124;43m\"\u001b[39;49m\u001b[38;5;124;43mencoding_errors\u001b[39;49m\u001b[38;5;124;43m\"\u001b[39;49m\u001b[43m,\u001b[49m\u001b[43m \u001b[49m\u001b[38;5;124;43m\"\u001b[39;49m\u001b[38;5;124;43mstrict\u001b[39;49m\u001b[38;5;124;43m\"\u001b[39;49m\u001b[43m)\u001b[49m\u001b[43m,\u001b[49m\n\u001b[0;32m   1669\u001b[0m \u001b[43m    \u001b[49m\u001b[43mstorage_options\u001b[49m\u001b[38;5;241;43m=\u001b[39;49m\u001b[38;5;28;43mself\u001b[39;49m\u001b[38;5;241;43m.\u001b[39;49m\u001b[43moptions\u001b[49m\u001b[38;5;241;43m.\u001b[39;49m\u001b[43mget\u001b[49m\u001b[43m(\u001b[49m\u001b[38;5;124;43m\"\u001b[39;49m\u001b[38;5;124;43mstorage_options\u001b[39;49m\u001b[38;5;124;43m\"\u001b[39;49m\u001b[43m,\u001b[49m\u001b[43m \u001b[49m\u001b[38;5;28;43;01mNone\u001b[39;49;00m\u001b[43m)\u001b[49m\u001b[43m,\u001b[49m\n\u001b[0;32m   1670\u001b[0m \u001b[43m\u001b[49m\u001b[43m)\u001b[49m\n\u001b[0;32m   1671\u001b[0m \u001b[38;5;28;01massert\u001b[39;00m \u001b[38;5;28mself\u001b[39m\u001b[38;5;241m.\u001b[39mhandles \u001b[38;5;129;01mis\u001b[39;00m \u001b[38;5;129;01mnot\u001b[39;00m \u001b[38;5;28;01mNone\u001b[39;00m\n\u001b[0;32m   1672\u001b[0m f \u001b[38;5;241m=\u001b[39m \u001b[38;5;28mself\u001b[39m\u001b[38;5;241m.\u001b[39mhandles\u001b[38;5;241m.\u001b[39mhandle\n",
      "File \u001b[1;32mc:\\Users\\kadal\\AppData\\Local\\Programs\\Python\\Python311\\Lib\\site-packages\\pandas\\io\\common.py:859\u001b[0m, in \u001b[0;36mget_handle\u001b[1;34m(path_or_buf, mode, encoding, compression, memory_map, is_text, errors, storage_options)\u001b[0m\n\u001b[0;32m    854\u001b[0m \u001b[38;5;28;01melif\u001b[39;00m \u001b[38;5;28misinstance\u001b[39m(handle, \u001b[38;5;28mstr\u001b[39m):\n\u001b[0;32m    855\u001b[0m     \u001b[38;5;66;03m# Check whether the filename is to be opened in binary mode.\u001b[39;00m\n\u001b[0;32m    856\u001b[0m     \u001b[38;5;66;03m# Binary mode does not support 'encoding' and 'newline'.\u001b[39;00m\n\u001b[0;32m    857\u001b[0m     \u001b[38;5;28;01mif\u001b[39;00m ioargs\u001b[38;5;241m.\u001b[39mencoding \u001b[38;5;129;01mand\u001b[39;00m \u001b[38;5;124m\"\u001b[39m\u001b[38;5;124mb\u001b[39m\u001b[38;5;124m\"\u001b[39m \u001b[38;5;129;01mnot\u001b[39;00m \u001b[38;5;129;01min\u001b[39;00m ioargs\u001b[38;5;241m.\u001b[39mmode:\n\u001b[0;32m    858\u001b[0m         \u001b[38;5;66;03m# Encoding\u001b[39;00m\n\u001b[1;32m--> 859\u001b[0m         handle \u001b[38;5;241m=\u001b[39m \u001b[38;5;28;43mopen\u001b[39;49m\u001b[43m(\u001b[49m\n\u001b[0;32m    860\u001b[0m \u001b[43m            \u001b[49m\u001b[43mhandle\u001b[49m\u001b[43m,\u001b[49m\n\u001b[0;32m    861\u001b[0m \u001b[43m            \u001b[49m\u001b[43mioargs\u001b[49m\u001b[38;5;241;43m.\u001b[39;49m\u001b[43mmode\u001b[49m\u001b[43m,\u001b[49m\n\u001b[0;32m    862\u001b[0m \u001b[43m            \u001b[49m\u001b[43mencoding\u001b[49m\u001b[38;5;241;43m=\u001b[39;49m\u001b[43mioargs\u001b[49m\u001b[38;5;241;43m.\u001b[39;49m\u001b[43mencoding\u001b[49m\u001b[43m,\u001b[49m\n\u001b[0;32m    863\u001b[0m \u001b[43m            \u001b[49m\u001b[43merrors\u001b[49m\u001b[38;5;241;43m=\u001b[39;49m\u001b[43merrors\u001b[49m\u001b[43m,\u001b[49m\n\u001b[0;32m    864\u001b[0m \u001b[43m            \u001b[49m\u001b[43mnewline\u001b[49m\u001b[38;5;241;43m=\u001b[39;49m\u001b[38;5;124;43m\"\u001b[39;49m\u001b[38;5;124;43m\"\u001b[39;49m\u001b[43m,\u001b[49m\n\u001b[0;32m    865\u001b[0m \u001b[43m        \u001b[49m\u001b[43m)\u001b[49m\n\u001b[0;32m    866\u001b[0m     \u001b[38;5;28;01melse\u001b[39;00m:\n\u001b[0;32m    867\u001b[0m         \u001b[38;5;66;03m# Binary mode\u001b[39;00m\n\u001b[0;32m    868\u001b[0m         handle \u001b[38;5;241m=\u001b[39m \u001b[38;5;28mopen\u001b[39m(handle, ioargs\u001b[38;5;241m.\u001b[39mmode)\n",
      "\u001b[1;31mFileNotFoundError\u001b[0m: [Errno 2] No such file or directory: 'song_artist.csv'"
     ]
    }
   ],
   "source": [
    "import pandas as pd\n",
    "import numpy as np\n",
    "from sklearn.model_selection import train_test_split\n",
    "from sklearn.preprocessing import StandardScaler\n",
    "from keras.models import Sequential\n",
    "from keras.layers import Dense\n",
    "\n",
    "# Step 1: Data Preprocessing\n",
    "# Load the two CSV files\n",
    "\n",
    "data = pd.read_csv(\"song_artist.csv\")"
   ]
  },
  {
   "cell_type": "markdown",
   "metadata": {},
   "source": [
    "Data Preprocessing"
   ]
  },
  {
   "cell_type": "code",
   "execution_count": 40,
   "metadata": {},
   "outputs": [],
   "source": [
    "def adjust_weights(activity):\n",
    "    # Define base weights\n",
    "    base_weights = {\n",
    "        'acousticness': 0.1,\n",
    "        'danceability': 0.2,\n",
    "        'energy': 0.3,\n",
    "        'instrumentalness': 0.1,\n",
    "        'liveness': 0.1,\n",
    "        'speechiness': 0.2\n",
    "    }\n",
    "\n",
    "    # Define weight adjustments based on activity\n",
    "    activity_adjustments = {\n",
    "        'gym': {'danceability': 0.2, 'energy': 0.4},\n",
    "        'relaxation': {'acousticness': 0.3, 'instrumentalness': 0.3},\n",
    "        'focus': {'instrumentalness': 0.4, 'speechiness': 0.3},\n",
    "        'party': {'danceability': 0.4, 'energy': 0.5, 'liveness': 0.3}\n",
    "        # Add more activity adjustments as needed\n",
    "    }\n",
    "\n",
    "    # Apply adjustments\n",
    "    adjusted_weights = base_weights.copy()\n",
    "    if activity in activity_adjustments:\n",
    "        for feature, adjustment in activity_adjustments[activity].items():\n",
    "            adjusted_weights[feature] += adjustment\n",
    "\n",
    "    return adjusted_weights"
   ]
  },
  {
   "cell_type": "code",
   "execution_count": null,
   "metadata": {},
   "outputs": [],
   "source": [
    "# Get user's current activity\n",
    "user_activity = input(\"Enter your current activity (gym, relaxation, focus, party, etc.): \").lower()\n",
    "\n",
    "# Adjust weights based on the user's activity\n",
    "adjusted_weights = adjust_weights(user_activity)\n",
    "\n",
    "# Calculate popularity score using adjusted weights\n",
    "data['popularity'] = sum(data[feature] * weight for feature, weight in adjusted_weights.items())\n",
    "\n",
    "# Normalize the popularity score to a range between 0 and 100 (optional)\n",
    "data['popularity'] = (data['popularity'] - data['popularity'].min()) / (data['popularity'].max() - data['popularity'].min()) * 100"
   ]
  },
  {
   "cell_type": "code",
   "execution_count": 42,
   "metadata": {},
   "outputs": [
    {
     "data": {
      "text/plain": [
       "id                           int64\n",
       "name                        object\n",
       "artists                     object\n",
       "acousticness               float64\n",
       "danceability               float64\n",
       "energy                     float64\n",
       "instrumentalness           float64\n",
       "liveness                   float64\n",
       "speechiness                float64\n",
       "acousticness_artist        float64\n",
       "danceability_artist        float64\n",
       "energy_artist              float64\n",
       "instrumentalness_artist    float64\n",
       "liveness_artist            float64\n",
       "speechiness_artist         float64\n",
       "popularity                 float64\n",
       "dtype: object"
      ]
     },
     "execution_count": 42,
     "metadata": {},
     "output_type": "execute_result"
    }
   ],
   "source": [
    "data.dtypes"
   ]
  },
  {
   "cell_type": "code",
   "execution_count": 43,
   "metadata": {},
   "outputs": [
    {
     "data": {
      "text/html": [
       "<div>\n",
       "<style scoped>\n",
       "    .dataframe tbody tr th:only-of-type {\n",
       "        vertical-align: middle;\n",
       "    }\n",
       "\n",
       "    .dataframe tbody tr th {\n",
       "        vertical-align: top;\n",
       "    }\n",
       "\n",
       "    .dataframe thead th {\n",
       "        text-align: right;\n",
       "    }\n",
       "</style>\n",
       "<table border=\"1\" class=\"dataframe\">\n",
       "  <thead>\n",
       "    <tr style=\"text-align: right;\">\n",
       "      <th></th>\n",
       "      <th>id</th>\n",
       "      <th>name</th>\n",
       "      <th>artists</th>\n",
       "      <th>acousticness</th>\n",
       "      <th>danceability</th>\n",
       "      <th>energy</th>\n",
       "      <th>instrumentalness</th>\n",
       "      <th>liveness</th>\n",
       "      <th>speechiness</th>\n",
       "      <th>acousticness_artist</th>\n",
       "      <th>danceability_artist</th>\n",
       "      <th>energy_artist</th>\n",
       "      <th>instrumentalness_artist</th>\n",
       "      <th>liveness_artist</th>\n",
       "      <th>speechiness_artist</th>\n",
       "      <th>popularity</th>\n",
       "    </tr>\n",
       "  </thead>\n",
       "  <tbody>\n",
       "    <tr>\n",
       "      <th>0</th>\n",
       "      <td>0</td>\n",
       "      <td>death bed (coffee for your head) (feat. beabad...</td>\n",
       "      <td>Powfu</td>\n",
       "      <td>0.7310</td>\n",
       "      <td>0.726</td>\n",
       "      <td>0.431</td>\n",
       "      <td>0.00000</td>\n",
       "      <td>0.696</td>\n",
       "      <td>0.1350</td>\n",
       "      <td>0.393250</td>\n",
       "      <td>0.809500</td>\n",
       "      <td>0.408750</td>\n",
       "      <td>0.000062</td>\n",
       "      <td>0.234088</td>\n",
       "      <td>0.131225</td>\n",
       "      <td>58.462730</td>\n",
       "    </tr>\n",
       "    <tr>\n",
       "      <th>1</th>\n",
       "      <td>1</td>\n",
       "      <td>THE SCOTTS</td>\n",
       "      <td>THE SCOTTS</td>\n",
       "      <td>0.2330</td>\n",
       "      <td>0.716</td>\n",
       "      <td>0.537</td>\n",
       "      <td>0.00000</td>\n",
       "      <td>0.157</td>\n",
       "      <td>0.0514</td>\n",
       "      <td>0.307500</td>\n",
       "      <td>0.706500</td>\n",
       "      <td>0.521000</td>\n",
       "      <td>0.000000</td>\n",
       "      <td>0.159000</td>\n",
       "      <td>0.052050</td>\n",
       "      <td>46.535912</td>\n",
       "    </tr>\n",
       "    <tr>\n",
       "      <th>2</th>\n",
       "      <td>2</td>\n",
       "      <td>The Box</td>\n",
       "      <td>Roddy Ricch</td>\n",
       "      <td>0.1040</td>\n",
       "      <td>0.896</td>\n",
       "      <td>0.586</td>\n",
       "      <td>0.00000</td>\n",
       "      <td>0.790</td>\n",
       "      <td>0.0559</td>\n",
       "      <td>0.184209</td>\n",
       "      <td>0.784984</td>\n",
       "      <td>0.627953</td>\n",
       "      <td>0.000013</td>\n",
       "      <td>0.167566</td>\n",
       "      <td>0.229681</td>\n",
       "      <td>59.960492</td>\n",
       "    </tr>\n",
       "    <tr>\n",
       "      <th>3</th>\n",
       "      <td>3</td>\n",
       "      <td>ily (i love you baby) (feat. Emilee)</td>\n",
       "      <td>Surf Mesa</td>\n",
       "      <td>0.0686</td>\n",
       "      <td>0.674</td>\n",
       "      <td>0.774</td>\n",
       "      <td>0.00188</td>\n",
       "      <td>0.393</td>\n",
       "      <td>0.0892</td>\n",
       "      <td>0.043200</td>\n",
       "      <td>0.680667</td>\n",
       "      <td>0.709333</td>\n",
       "      <td>0.000627</td>\n",
       "      <td>0.193000</td>\n",
       "      <td>0.058133</td>\n",
       "      <td>56.750175</td>\n",
       "    </tr>\n",
       "    <tr>\n",
       "      <th>4</th>\n",
       "      <td>4</td>\n",
       "      <td>Supalonely</td>\n",
       "      <td>BENEE</td>\n",
       "      <td>0.3050</td>\n",
       "      <td>0.863</td>\n",
       "      <td>0.631</td>\n",
       "      <td>0.00003</td>\n",
       "      <td>0.123</td>\n",
       "      <td>0.0534</td>\n",
       "      <td>0.345733</td>\n",
       "      <td>0.757444</td>\n",
       "      <td>0.574333</td>\n",
       "      <td>0.000010</td>\n",
       "      <td>0.145644</td>\n",
       "      <td>0.041956</td>\n",
       "      <td>54.670028</td>\n",
       "    </tr>\n",
       "  </tbody>\n",
       "</table>\n",
       "</div>"
      ],
      "text/plain": [
       "   id                                               name      artists  \\\n",
       "0   0  death bed (coffee for your head) (feat. beabad...        Powfu   \n",
       "1   1                                         THE SCOTTS   THE SCOTTS   \n",
       "2   2                                            The Box  Roddy Ricch   \n",
       "3   3               ily (i love you baby) (feat. Emilee)    Surf Mesa   \n",
       "4   4                                         Supalonely        BENEE   \n",
       "\n",
       "   acousticness  danceability  energy  instrumentalness  liveness  \\\n",
       "0        0.7310         0.726   0.431           0.00000     0.696   \n",
       "1        0.2330         0.716   0.537           0.00000     0.157   \n",
       "2        0.1040         0.896   0.586           0.00000     0.790   \n",
       "3        0.0686         0.674   0.774           0.00188     0.393   \n",
       "4        0.3050         0.863   0.631           0.00003     0.123   \n",
       "\n",
       "   speechiness  acousticness_artist  danceability_artist  energy_artist  \\\n",
       "0       0.1350             0.393250             0.809500       0.408750   \n",
       "1       0.0514             0.307500             0.706500       0.521000   \n",
       "2       0.0559             0.184209             0.784984       0.627953   \n",
       "3       0.0892             0.043200             0.680667       0.709333   \n",
       "4       0.0534             0.345733             0.757444       0.574333   \n",
       "\n",
       "   instrumentalness_artist  liveness_artist  speechiness_artist  popularity  \n",
       "0                 0.000062         0.234088            0.131225   58.462730  \n",
       "1                 0.000000         0.159000            0.052050   46.535912  \n",
       "2                 0.000013         0.167566            0.229681   59.960492  \n",
       "3                 0.000627         0.193000            0.058133   56.750175  \n",
       "4                 0.000010         0.145644            0.041956   54.670028  "
      ]
     },
     "execution_count": 43,
     "metadata": {},
     "output_type": "execute_result"
    }
   ],
   "source": [
    "data.head()"
   ]
  },
  {
   "cell_type": "markdown",
   "metadata": {},
   "source": [
    "Data Split for training and testing"
   ]
  },
  {
   "cell_type": "code",
   "execution_count": 44,
   "metadata": {},
   "outputs": [],
   "source": [
    "y = data['popularity']\n",
    "X = data.drop(columns=['name', 'artists', 'id', 'popularity'])\n",
    "\n",
    "\n",
    "# Split the data into training and testing sets\n",
    "X_train, X_test, y_train, y_test = train_test_split(X, y, test_size=0.2, random_state=42)\n",
    "\n",
    "\n",
    "# Scale the features\n",
    "scaler = StandardScaler()\n",
    "X_train_scaled = scaler.fit_transform(X_train)\n",
    "X_test_scaled = scaler.transform(X_test)\n"
   ]
  },
  {
   "cell_type": "markdown",
   "metadata": {},
   "source": [
    "Model Training"
   ]
  },
  {
   "cell_type": "code",
   "execution_count": 45,
   "metadata": {},
   "outputs": [
    {
     "name": "stdout",
     "output_type": "stream",
     "text": [
      "Epoch 1/10\n",
      "2176/2176 [==============================] - 4s 2ms/step - loss: 126.3464 - val_loss: 2.6702\n",
      "Epoch 2/10\n",
      "2176/2176 [==============================] - 3s 2ms/step - loss: 0.6416 - val_loss: 0.1663\n",
      "Epoch 3/10\n",
      "2176/2176 [==============================] - 4s 2ms/step - loss: 0.0484 - val_loss: 0.0432\n",
      "Epoch 4/10\n",
      "2176/2176 [==============================] - 4s 2ms/step - loss: 0.0210 - val_loss: 0.0288\n",
      "Epoch 5/10\n",
      "2176/2176 [==============================] - 3s 2ms/step - loss: 0.0150 - val_loss: 0.0117\n",
      "Epoch 6/10\n",
      "2176/2176 [==============================] - 3s 2ms/step - loss: 0.0126 - val_loss: 0.0109\n",
      "Epoch 7/10\n",
      "2176/2176 [==============================] - 4s 2ms/step - loss: 0.0096 - val_loss: 0.0241\n",
      "Epoch 8/10\n",
      "2176/2176 [==============================] - 4s 2ms/step - loss: 0.0089 - val_loss: 0.0099\n",
      "Epoch 9/10\n",
      "2176/2176 [==============================] - 4s 2ms/step - loss: 0.0082 - val_loss: 0.0082\n",
      "Epoch 10/10\n",
      "2176/2176 [==============================] - 4s 2ms/step - loss: 0.0072 - val_loss: 0.0043\n"
     ]
    },
    {
     "data": {
      "text/plain": [
       "<keras.src.callbacks.History at 0x1ac010a33d0>"
      ]
     },
     "execution_count": 45,
     "metadata": {},
     "output_type": "execute_result"
    }
   ],
   "source": [
    "\n",
    "# Step 2: Model Training\n",
    "# Define and train a deep learning model\n",
    "model = Sequential()\n",
    "model.add(Dense(64, activation='relu', input_shape=(X_train_scaled.shape[1],)))\n",
    "model.add(Dense(32, activation='relu'))\n",
    "model.add(Dense(1, activation='linear'))  # Linear activation for regression task\n",
    "model.compile(optimizer='adam', loss='mean_squared_error')\n",
    "model.fit(X_train_scaled, y_train, epochs=10, batch_size=32, validation_data=(X_test_scaled, y_test))"
   ]
  },
  {
   "cell_type": "markdown",
   "metadata": {},
   "source": [
    "Display 5 songs and get user feedback and Reiterate"
   ]
  },
  {
   "cell_type": "code",
   "execution_count": 30,
   "metadata": {},
   "outputs": [],
   "source": [
    "# Define a blending function to adjust the popularity values\n",
    "def adjust_popularity(original_popularity, user_rating, user_scale_portion):\n",
    "    # Define the weights for blending\n",
    "    original_weight = 0.8  # Weight for the original popularity value\n",
    "    user_weight = 0.2  # Weight for the user rating and scale portion\n",
    "    \n",
    "    # Calculate the adjusted popularity value using a weighted average\n",
    "    adjusted_popularity = (original_weight * original_popularity) + (user_weight * (user_rating * (user_scale_portion / 10)))\n",
    "    \n",
    "    return adjusted_popularity"
   ]
  },
  {
   "cell_type": "code",
   "execution_count": 47,
   "metadata": {},
   "outputs": [
    {
     "name": "stdout",
     "output_type": "stream",
     "text": [
      "Top 5 Songs with Highest Popularity:\n",
      "Old Man Face by Bill Burr\n",
      "America The Augmented by Daniel Tosh\n",
      "Teeth by Mitch Hedberg\n",
      "This Woman I Met by Steven Wright\n",
      "Chain Stores by Bill Burr\n"
     ]
    },
    {
     "name": "stdout",
     "output_type": "stream",
     "text": [
      "{'Old Man Face': 3.0, 'America The Augmented': 2.0, 'Teeth': 3.0, 'This Woman I Met': 4.0, 'Chain Stores': 2.0}\n",
      "Do you want to continue: (yes/no) Enter no to exit\n",
      "\n",
      "Top 5 Songs with Highest Popularity:\n",
      "Hell Hound by Bill Burr\n",
      "Booze is Magic by Nick Swardson\n",
      "Other Jokes by Demetri Martin\n",
      "Law and Order and Mr. Jerry Orbach by John Mulaney\n",
      "Don't Wanna Be That Guy by Bill Burr\n",
      "{'Hell Hound': 1.0, 'Booze is Magic': 1.0, 'Other Jokes': 1.0, 'Law and Order and Mr. Jerry Orbach': 1.0, \"Don't Wanna Be That Guy\": 1.0}\n",
      "Do you want to continue: (yes/no) Enter no to exit\n",
      "\n",
      "\n",
      "Thank You for using out System :)\n"
     ]
    }
   ],
   "source": [
    "prompt = 'yes'\n",
    "\n",
    "while prompt=='yes':\n",
    "\n",
    "    # SORT THE DATAFRAME AND GET TOP 5 VALUES\n",
    "    sorted_data = data.sort_values(by='popularity', ascending=False)\n",
    "    top_songs = sorted_data.head(5)\n",
    "    top_songs\n",
    "    print(\"Songs Recommended for you:\")\n",
    "    for index, song in top_songs.iterrows():\n",
    "        print(f\"{song['name']} by {song['artists']}\")\n",
    "\n",
    "    #GET USER FEEDBACK ON THE 5 SONGS\n",
    "    user_feedback = {}\n",
    "    for i, song in top_songs.iterrows():\n",
    "        feedback = input(f\"On a scale of 1 to 10, how much do you like '{song['name']}' by {song['artists']}? \")\n",
    "        user_feedback[song['name']]=(float(feedback))\n",
    "    \n",
    "\n",
    "    #UPDATE THE MAIN DATASET BASE ON USER RECOMMENDATIONS\n",
    "    for song_name, rating in user_feedback.items():\n",
    "        rows = data[data['name'] == song_name]\n",
    "        if not rows.empty:\n",
    "            original_popularity = rows['popularity'].iloc[0]  \n",
    "            adjusted_popularity = adjust_popularity(original_popularity, rating, user_scale_portion=10)  \n",
    "            data.loc[data['name'] == song_name, 'popularity'] = adjusted_popularity\n",
    "\n",
    "    print(\"Do you want to continue: (yes/no) Enter no to exit\\n\")\n",
    "    prompt = input()\n",
    "print(\"\\nThank You for using out System :)\")\n",
    "\n",
    "\n",
    "\n",
    "    "
   ]
  },
  {
   "cell_type": "code",
   "execution_count": null,
   "metadata": {},
   "outputs": [],
   "source": []
  }
 ],
 "metadata": {
  "kernelspec": {
   "display_name": "Python 3",
   "language": "python",
   "name": "python3"
  },
  "language_info": {
   "codemirror_mode": {
    "name": "ipython",
    "version": 3
   },
   "file_extension": ".py",
   "mimetype": "text/x-python",
   "name": "python",
   "nbconvert_exporter": "python",
   "pygments_lexer": "ipython3",
   "version": "3.11.3"
  }
 },
 "nbformat": 4,
 "nbformat_minor": 2
}
