{
 "cells": [
  {
   "cell_type": "markdown",
   "metadata": {},
   "source": [
    "Data Loading"
   ]
  },
  {
   "cell_type": "code",
   "execution_count": 1,
   "metadata": {},
   "outputs": [],
   "source": [
    "import pandas as pd\n",
    "import numpy as np\n",
    "from sklearn.model_selection import train_test_split\n",
    "from sklearn.preprocessing import StandardScaler\n",
    "from keras.models import Sequential\n",
    "from keras.layers import Dense\n",
    "\n",
    "# Step 1: Data Preprocessing\n",
    "# Load the two CSV files\n",
    "\n",
    "data = pd.read_csv(\"song_artist.csv\")"
   ]
  },
  {
   "cell_type": "markdown",
   "metadata": {},
   "source": [
    "Data Preprocessing"
   ]
  },
  {
   "cell_type": "code",
   "execution_count": 2,
   "metadata": {},
   "outputs": [],
   "source": [
    "#create a new code popularity based on the weighted sum\n",
    "weights = {\n",
    "    'acousticness': 0.1,\n",
    "    'danceability': 0.2,\n",
    "    'energy': 0.3,\n",
    "    'instrumentalness': 0.1,\n",
    "    'liveness': 0.1,\n",
    "    'speechiness': 0.2\n",
    "}"
   ]
  },
  {
   "cell_type": "code",
   "execution_count": 3,
   "metadata": {},
   "outputs": [],
   "source": [
    "data['popularity'] = (data['acousticness'] * weights['acousticness'] +\n",
    "                      data['danceability'] * weights['danceability'] +\n",
    "                      data['energy'] * weights['energy'] +\n",
    "                      data['instrumentalness'] * weights['instrumentalness'] +\n",
    "                      data['liveness'] * weights['liveness'] +\n",
    "                      data['speechiness'] * weights['speechiness'])\n",
    "\n",
    "# Normalize the popularity score to a range between 0 and 100 (optional)\n",
    "data['popularity'] = (data['popularity'] - data['popularity'].min()) / (data['popularity'].max() - data['popularity'].min()) * 100"
   ]
  },
  {
   "cell_type": "code",
   "execution_count": 4,
   "metadata": {},
   "outputs": [
    {
     "data": {
      "text/plain": [
       "id                           int64\n",
       "name                        object\n",
       "artists                     object\n",
       "acousticness               float64\n",
       "danceability               float64\n",
       "energy                     float64\n",
       "instrumentalness           float64\n",
       "liveness                   float64\n",
       "speechiness                float64\n",
       "acousticness_artist        float64\n",
       "danceability_artist        float64\n",
       "energy_artist              float64\n",
       "instrumentalness_artist    float64\n",
       "liveness_artist            float64\n",
       "speechiness_artist         float64\n",
       "popularity                 float64\n",
       "dtype: object"
      ]
     },
     "execution_count": 4,
     "metadata": {},
     "output_type": "execute_result"
    }
   ],
   "source": [
    "data.dtypes"
   ]
  },
  {
   "cell_type": "code",
   "execution_count": 5,
   "metadata": {},
   "outputs": [
    {
     "data": {
      "text/html": [
       "<div>\n",
       "<style scoped>\n",
       "    .dataframe tbody tr th:only-of-type {\n",
       "        vertical-align: middle;\n",
       "    }\n",
       "\n",
       "    .dataframe tbody tr th {\n",
       "        vertical-align: top;\n",
       "    }\n",
       "\n",
       "    .dataframe thead th {\n",
       "        text-align: right;\n",
       "    }\n",
       "</style>\n",
       "<table border=\"1\" class=\"dataframe\">\n",
       "  <thead>\n",
       "    <tr style=\"text-align: right;\">\n",
       "      <th></th>\n",
       "      <th>id</th>\n",
       "      <th>name</th>\n",
       "      <th>artists</th>\n",
       "      <th>acousticness</th>\n",
       "      <th>danceability</th>\n",
       "      <th>energy</th>\n",
       "      <th>instrumentalness</th>\n",
       "      <th>liveness</th>\n",
       "      <th>speechiness</th>\n",
       "      <th>acousticness_artist</th>\n",
       "      <th>danceability_artist</th>\n",
       "      <th>energy_artist</th>\n",
       "      <th>instrumentalness_artist</th>\n",
       "      <th>liveness_artist</th>\n",
       "      <th>speechiness_artist</th>\n",
       "      <th>popularity</th>\n",
       "    </tr>\n",
       "  </thead>\n",
       "  <tbody>\n",
       "    <tr>\n",
       "      <th>0</th>\n",
       "      <td>0</td>\n",
       "      <td>death bed (coffee for your head) (feat. beabad...</td>\n",
       "      <td>Powfu</td>\n",
       "      <td>0.7310</td>\n",
       "      <td>0.726</td>\n",
       "      <td>0.431</td>\n",
       "      <td>0.00000</td>\n",
       "      <td>0.696</td>\n",
       "      <td>0.1350</td>\n",
       "      <td>0.393250</td>\n",
       "      <td>0.809500</td>\n",
       "      <td>0.408750</td>\n",
       "      <td>0.000062</td>\n",
       "      <td>0.234088</td>\n",
       "      <td>0.131225</td>\n",
       "      <td>58.462730</td>\n",
       "    </tr>\n",
       "    <tr>\n",
       "      <th>1</th>\n",
       "      <td>1</td>\n",
       "      <td>THE SCOTTS</td>\n",
       "      <td>THE SCOTTS</td>\n",
       "      <td>0.2330</td>\n",
       "      <td>0.716</td>\n",
       "      <td>0.537</td>\n",
       "      <td>0.00000</td>\n",
       "      <td>0.157</td>\n",
       "      <td>0.0514</td>\n",
       "      <td>0.307500</td>\n",
       "      <td>0.706500</td>\n",
       "      <td>0.521000</td>\n",
       "      <td>0.000000</td>\n",
       "      <td>0.159000</td>\n",
       "      <td>0.052050</td>\n",
       "      <td>46.535912</td>\n",
       "    </tr>\n",
       "    <tr>\n",
       "      <th>2</th>\n",
       "      <td>2</td>\n",
       "      <td>The Box</td>\n",
       "      <td>Roddy Ricch</td>\n",
       "      <td>0.1040</td>\n",
       "      <td>0.896</td>\n",
       "      <td>0.586</td>\n",
       "      <td>0.00000</td>\n",
       "      <td>0.790</td>\n",
       "      <td>0.0559</td>\n",
       "      <td>0.184209</td>\n",
       "      <td>0.784984</td>\n",
       "      <td>0.627953</td>\n",
       "      <td>0.000013</td>\n",
       "      <td>0.167566</td>\n",
       "      <td>0.229681</td>\n",
       "      <td>59.960492</td>\n",
       "    </tr>\n",
       "    <tr>\n",
       "      <th>3</th>\n",
       "      <td>3</td>\n",
       "      <td>ily (i love you baby) (feat. Emilee)</td>\n",
       "      <td>Surf Mesa</td>\n",
       "      <td>0.0686</td>\n",
       "      <td>0.674</td>\n",
       "      <td>0.774</td>\n",
       "      <td>0.00188</td>\n",
       "      <td>0.393</td>\n",
       "      <td>0.0892</td>\n",
       "      <td>0.043200</td>\n",
       "      <td>0.680667</td>\n",
       "      <td>0.709333</td>\n",
       "      <td>0.000627</td>\n",
       "      <td>0.193000</td>\n",
       "      <td>0.058133</td>\n",
       "      <td>56.750175</td>\n",
       "    </tr>\n",
       "    <tr>\n",
       "      <th>4</th>\n",
       "      <td>4</td>\n",
       "      <td>Supalonely</td>\n",
       "      <td>BENEE</td>\n",
       "      <td>0.3050</td>\n",
       "      <td>0.863</td>\n",
       "      <td>0.631</td>\n",
       "      <td>0.00003</td>\n",
       "      <td>0.123</td>\n",
       "      <td>0.0534</td>\n",
       "      <td>0.345733</td>\n",
       "      <td>0.757444</td>\n",
       "      <td>0.574333</td>\n",
       "      <td>0.000010</td>\n",
       "      <td>0.145644</td>\n",
       "      <td>0.041956</td>\n",
       "      <td>54.670028</td>\n",
       "    </tr>\n",
       "  </tbody>\n",
       "</table>\n",
       "</div>"
      ],
      "text/plain": [
       "   id                                               name      artists  \\\n",
       "0   0  death bed (coffee for your head) (feat. beabad...        Powfu   \n",
       "1   1                                         THE SCOTTS   THE SCOTTS   \n",
       "2   2                                            The Box  Roddy Ricch   \n",
       "3   3               ily (i love you baby) (feat. Emilee)    Surf Mesa   \n",
       "4   4                                         Supalonely        BENEE   \n",
       "\n",
       "   acousticness  danceability  energy  instrumentalness  liveness  \\\n",
       "0        0.7310         0.726   0.431           0.00000     0.696   \n",
       "1        0.2330         0.716   0.537           0.00000     0.157   \n",
       "2        0.1040         0.896   0.586           0.00000     0.790   \n",
       "3        0.0686         0.674   0.774           0.00188     0.393   \n",
       "4        0.3050         0.863   0.631           0.00003     0.123   \n",
       "\n",
       "   speechiness  acousticness_artist  danceability_artist  energy_artist  \\\n",
       "0       0.1350             0.393250             0.809500       0.408750   \n",
       "1       0.0514             0.307500             0.706500       0.521000   \n",
       "2       0.0559             0.184209             0.784984       0.627953   \n",
       "3       0.0892             0.043200             0.680667       0.709333   \n",
       "4       0.0534             0.345733             0.757444       0.574333   \n",
       "\n",
       "   instrumentalness_artist  liveness_artist  speechiness_artist  popularity  \n",
       "0                 0.000062         0.234088            0.131225   58.462730  \n",
       "1                 0.000000         0.159000            0.052050   46.535912  \n",
       "2                 0.000013         0.167566            0.229681   59.960492  \n",
       "3                 0.000627         0.193000            0.058133   56.750175  \n",
       "4                 0.000010         0.145644            0.041956   54.670028  "
      ]
     },
     "execution_count": 5,
     "metadata": {},
     "output_type": "execute_result"
    }
   ],
   "source": [
    "data.head()"
   ]
  },
  {
   "cell_type": "markdown",
   "metadata": {},
   "source": [
    "Data Split for training and testing"
   ]
  },
  {
   "cell_type": "code",
   "execution_count": 6,
   "metadata": {},
   "outputs": [],
   "source": [
    "y = data['popularity']\n",
    "X = data.drop(columns=['name', 'artists', 'id', 'popularity'])\n",
    "\n",
    "\n",
    "# Split the data into training and testing sets\n",
    "X_train, X_test, y_train, y_test = train_test_split(X, y, test_size=0.2, random_state=42)\n",
    "\n",
    "\n",
    "# Scale the features\n",
    "scaler = StandardScaler()\n",
    "X_train_scaled = scaler.fit_transform(X_train)\n",
    "X_test_scaled = scaler.transform(X_test)\n"
   ]
  },
  {
   "cell_type": "markdown",
   "metadata": {},
   "source": [
    "Model Training"
   ]
  },
  {
   "cell_type": "code",
   "execution_count": 7,
   "metadata": {},
   "outputs": [
    {
     "name": "stdout",
     "output_type": "stream",
     "text": [
      "Epoch 1/10\n",
      "2176/2176 [==============================] - 4s 2ms/step - loss: 125.7977 - val_loss: 2.3088\n",
      "Epoch 2/10\n",
      "2176/2176 [==============================] - 3s 2ms/step - loss: 0.6025 - val_loss: 0.1209\n",
      "Epoch 3/10\n",
      "2176/2176 [==============================] - 4s 2ms/step - loss: 0.0632 - val_loss: 0.0812\n",
      "Epoch 4/10\n",
      "2176/2176 [==============================] - 3s 1ms/step - loss: 0.0330 - val_loss: 0.0377\n",
      "Epoch 5/10\n",
      "2176/2176 [==============================] - 3s 1ms/step - loss: 0.0213 - val_loss: 0.0167\n",
      "Epoch 6/10\n",
      "2176/2176 [==============================] - 4s 2ms/step - loss: 0.0174 - val_loss: 0.0154\n",
      "Epoch 7/10\n",
      "2176/2176 [==============================] - 4s 2ms/step - loss: 0.0124 - val_loss: 0.0163\n",
      "Epoch 8/10\n",
      "2176/2176 [==============================] - 4s 2ms/step - loss: 0.0113 - val_loss: 0.0377\n",
      "Epoch 9/10\n",
      "2176/2176 [==============================] - 4s 2ms/step - loss: 0.0093 - val_loss: 0.0117\n",
      "Epoch 10/10\n",
      "2176/2176 [==============================] - 4s 2ms/step - loss: 0.0064 - val_loss: 0.0113\n"
     ]
    },
    {
     "data": {
      "text/plain": [
       "<keras.src.callbacks.History at 0x2ca54a44990>"
      ]
     },
     "execution_count": 7,
     "metadata": {},
     "output_type": "execute_result"
    }
   ],
   "source": [
    "\n",
    "# Step 2: Model Training\n",
    "# Define and train a deep learning model\n",
    "model = Sequential()\n",
    "model.add(Dense(64, activation='relu', input_shape=(X_train_scaled.shape[1],)))\n",
    "model.add(Dense(32, activation='relu'))\n",
    "model.add(Dense(1, activation='linear'))  # Linear activation for regression task\n",
    "model.compile(optimizer='adam', loss='mean_squared_error')\n",
    "model.fit(X_train_scaled, y_train, epochs=10, batch_size=32, validation_data=(X_test_scaled, y_test))"
   ]
  },
  {
   "cell_type": "markdown",
   "metadata": {},
   "source": [
    "Display 5 songs and get user feedback"
   ]
  },
  {
   "cell_type": "code",
   "execution_count": 8,
   "metadata": {},
   "outputs": [
    {
     "name": "stdout",
     "output_type": "stream",
     "text": [
      "Top 5 Songs with Highest Popularity:\n",
      "57589. The Improv Fairy Tale by Mitch Hedberg\n",
      "55834. Pissed Off by Dane Cook\n",
      "79913. The World on Fire by Jim Morrison\n",
      "52090. Free Dog by Bill Burr\n",
      "56160. You know who's a great lady? by John Mulaney\n"
     ]
    }
   ],
   "source": [
    "sorted_data = data.sort_values(by='popularity', ascending=False)\n",
    "\n",
    "# Display the top 5 songs with highest popularity\n",
    "top_songs = sorted_data.head(5)\n",
    "print(\"Top 5 Songs with Highest Popularity:\")\n",
    "for i, song in top_songs.iterrows():\n",
    "    print(f\"{i+1}. {song['name']} by {song['artists']}\")"
   ]
  },
  {
   "cell_type": "code",
   "execution_count": 9,
   "metadata": {},
   "outputs": [
    {
     "name": "stdout",
     "output_type": "stream",
     "text": [
      "{'The Improv Fairy Tale': 6.0, 'Pissed Off': 7.0, 'The World on Fire': 7.0, 'Free Dog': 5.0, \"You know who's a great lady?\": 6.0}\n"
     ]
    }
   ],
   "source": [
    "user_feedback = {}\n",
    "for i, song in top_songs.iterrows():\n",
    "    feedback = input(f\"On a scale of 1 to 10, how much do you like '{song['name']}' by {song['artists']}? \")\n",
    "    user_feedback[song['name']]=(float(feedback))\n",
    "print(user_feedback)"
   ]
  },
  {
   "cell_type": "code",
   "execution_count": 13,
   "metadata": {},
   "outputs": [
    {
     "data": {
      "text/html": [
       "<div>\n",
       "<style scoped>\n",
       "    .dataframe tbody tr th:only-of-type {\n",
       "        vertical-align: middle;\n",
       "    }\n",
       "\n",
       "    .dataframe tbody tr th {\n",
       "        vertical-align: top;\n",
       "    }\n",
       "\n",
       "    .dataframe thead th {\n",
       "        text-align: right;\n",
       "    }\n",
       "</style>\n",
       "<table border=\"1\" class=\"dataframe\">\n",
       "  <thead>\n",
       "    <tr style=\"text-align: right;\">\n",
       "      <th></th>\n",
       "      <th>0</th>\n",
       "    </tr>\n",
       "  </thead>\n",
       "  <tbody>\n",
       "    <tr>\n",
       "      <th>acousticness</th>\n",
       "      <td>0.888200</td>\n",
       "    </tr>\n",
       "    <tr>\n",
       "      <th>danceability</th>\n",
       "      <td>0.498200</td>\n",
       "    </tr>\n",
       "    <tr>\n",
       "      <th>energy</th>\n",
       "      <td>0.917800</td>\n",
       "    </tr>\n",
       "    <tr>\n",
       "      <th>instrumentalness</th>\n",
       "      <td>0.147401</td>\n",
       "    </tr>\n",
       "    <tr>\n",
       "      <th>liveness</th>\n",
       "      <td>0.957800</td>\n",
       "    </tr>\n",
       "    <tr>\n",
       "      <th>speechiness</th>\n",
       "      <td>0.886200</td>\n",
       "    </tr>\n",
       "    <tr>\n",
       "      <th>acousticness_artist</th>\n",
       "      <td>0.800256</td>\n",
       "    </tr>\n",
       "    <tr>\n",
       "      <th>danceability_artist</th>\n",
       "      <td>0.539555</td>\n",
       "    </tr>\n",
       "    <tr>\n",
       "      <th>energy_artist</th>\n",
       "      <td>0.764855</td>\n",
       "    </tr>\n",
       "    <tr>\n",
       "      <th>instrumentalness_artist</th>\n",
       "      <td>0.020680</td>\n",
       "    </tr>\n",
       "    <tr>\n",
       "      <th>liveness_artist</th>\n",
       "      <td>0.737568</td>\n",
       "    </tr>\n",
       "    <tr>\n",
       "      <th>speechiness_artist</th>\n",
       "      <td>0.774047</td>\n",
       "    </tr>\n",
       "  </tbody>\n",
       "</table>\n",
       "</div>"
      ],
      "text/plain": [
       "                                0\n",
       "acousticness             0.888200\n",
       "danceability             0.498200\n",
       "energy                   0.917800\n",
       "instrumentalness         0.147401\n",
       "liveness                 0.957800\n",
       "speechiness              0.886200\n",
       "acousticness_artist      0.800256\n",
       "danceability_artist      0.539555\n",
       "energy_artist            0.764855\n",
       "instrumentalness_artist  0.020680\n",
       "liveness_artist          0.737568\n",
       "speechiness_artist       0.774047"
      ]
     },
     "execution_count": 13,
     "metadata": {},
     "output_type": "execute_result"
    }
   ],
   "source": [
    "#dataset creation\n",
    "selected_rows = []\n",
    "\n",
    "# Iterate over the user feedback dictionary\n",
    "for song_name, rating in user_feedback.items():\n",
    "    # Retrieve rows from the main dataset where the song name matches\n",
    "    rows = data[data['name'] == song_name]\n",
    "    # Add the selected row (if found) to the list\n",
    "    if not rows.empty:\n",
    "        selected_rows.append(rows.iloc[0])                  # Assuming there's only one row for each song name\n",
    "\n",
    "# Create a new DataFrame from the selected rows\n",
    "feedback = pd.DataFrame(selected_rows)                       # this is the array of inputs\n",
    "\n",
    "# Drop irrelevant columns\n",
    "feedback = feedback.drop(columns=['name', 'artists', 'id', 'popularity'])\n",
    "feedback = pd.DataFrame(feedback.mean())                                    #take the mean of values obtained\n",
    "feedback"
   ]
  },
  {
   "cell_type": "code",
   "execution_count": 27,
   "metadata": {},
   "outputs": [
    {
     "name": "stdout",
     "output_type": "stream",
     "text": [
      "12\n"
     ]
    },
    {
     "ename": "TypeError",
     "evalue": "object of type 'numpy.float64' has no len()",
     "output_type": "error",
     "traceback": [
      "\u001b[1;31m---------------------------------------------------------------------------\u001b[0m",
      "\u001b[1;31mTypeError\u001b[0m                                 Traceback (most recent call last)",
      "Cell \u001b[1;32mIn[27], line 2\u001b[0m\n\u001b[0;32m      1\u001b[0m \u001b[38;5;28mprint\u001b[39m(\u001b[38;5;28mlen\u001b[39m(X_train\u001b[38;5;241m.\u001b[39mcolumns))\n\u001b[1;32m----> 2\u001b[0m \u001b[38;5;28;43mlen\u001b[39;49m\u001b[43m(\u001b[49m\u001b[43mfeedback\u001b[49m\u001b[43m)\u001b[49m\n",
      "\u001b[1;31mTypeError\u001b[0m: object of type 'numpy.float64' has no len()"
     ]
    }
   ],
   "source": [
    "print(len(X_train.columns))\n",
    "len(feedback)"
   ]
  },
  {
   "cell_type": "code",
   "execution_count": null,
   "metadata": {},
   "outputs": [],
   "source": []
  }
 ],
 "metadata": {
  "kernelspec": {
   "display_name": "Python 3",
   "language": "python",
   "name": "python3"
  },
  "language_info": {
   "codemirror_mode": {
    "name": "ipython",
    "version": 3
   },
   "file_extension": ".py",
   "mimetype": "text/x-python",
   "name": "python",
   "nbconvert_exporter": "python",
   "pygments_lexer": "ipython3",
   "version": "3.11.3"
  }
 },
 "nbformat": 4,
 "nbformat_minor": 2
}
