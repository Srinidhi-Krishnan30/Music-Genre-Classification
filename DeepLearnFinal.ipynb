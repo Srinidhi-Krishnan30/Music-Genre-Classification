{
 "cells": [
  {
   "cell_type": "markdown",
   "metadata": {},
   "source": [
    "Data Loading"
   ]
  },
  {
   "cell_type": "code",
   "execution_count": 2,
   "metadata": {},
   "outputs": [],
   "source": [
    "import pandas as pd\n",
    "import numpy as np\n",
    "from sklearn.model_selection import train_test_split\n",
    "from sklearn.preprocessing import StandardScaler\n",
    "from keras.models import Sequential\n",
    "from keras.layers import Dense\n",
    "\n",
    "# Step 1: Data Preprocessing\n",
    "# Load the two CSV files\n",
    "\n",
    "data = pd.read_csv(\"song_artist.csv\")"
   ]
  },
  {
   "cell_type": "markdown",
   "metadata": {},
   "source": [
    "Data Preprocessing"
   ]
  },
  {
   "cell_type": "code",
   "execution_count": 3,
   "metadata": {},
   "outputs": [],
   "source": [
    "#create a new code popularity based on the weighted sum\n",
    "weights = {\n",
    "    'acousticness': 0.1,\n",
    "    'danceability': 0.2,\n",
    "    'energy': 0.3,\n",
    "    'instrumentalness': 0.1,\n",
    "    'liveness': 0.1,\n",
    "    'speechiness': 0.2\n",
    "}"
   ]
  },
  {
   "cell_type": "code",
   "execution_count": 4,
   "metadata": {},
   "outputs": [],
   "source": [
    "data['popularity'] = (data['acousticness'] * weights['acousticness'] +\n",
    "                      data['danceability'] * weights['danceability'] +\n",
    "                      data['energy'] * weights['energy'] +\n",
    "                      data['instrumentalness'] * weights['instrumentalness'] +\n",
    "                      data['liveness'] * weights['liveness'] +\n",
    "                      data['speechiness'] * weights['speechiness'])\n",
    "\n",
    "# Normalize the popularity score to a range between 0 and 100 (optional)\n",
    "data['popularity'] = (data['popularity'] - data['popularity'].min()) / (data['popularity'].max() - data['popularity'].min()) * 100"
   ]
  },
  {
   "cell_type": "code",
   "execution_count": 5,
   "metadata": {},
   "outputs": [
    {
     "data": {
      "text/plain": [
       "id                           int64\n",
       "name                        object\n",
       "artists                     object\n",
       "acousticness               float64\n",
       "danceability               float64\n",
       "energy                     float64\n",
       "instrumentalness           float64\n",
       "liveness                   float64\n",
       "speechiness                float64\n",
       "acousticness_artist        float64\n",
       "danceability_artist        float64\n",
       "energy_artist              float64\n",
       "instrumentalness_artist    float64\n",
       "liveness_artist            float64\n",
       "speechiness_artist         float64\n",
       "popularity                 float64\n",
       "dtype: object"
      ]
     },
     "execution_count": 5,
     "metadata": {},
     "output_type": "execute_result"
    }
   ],
   "source": [
    "data.dtypes"
   ]
  },
  {
   "cell_type": "code",
   "execution_count": 6,
   "metadata": {},
   "outputs": [
    {
     "data": {
      "text/html": [
       "<div>\n",
       "<style scoped>\n",
       "    .dataframe tbody tr th:only-of-type {\n",
       "        vertical-align: middle;\n",
       "    }\n",
       "\n",
       "    .dataframe tbody tr th {\n",
       "        vertical-align: top;\n",
       "    }\n",
       "\n",
       "    .dataframe thead th {\n",
       "        text-align: right;\n",
       "    }\n",
       "</style>\n",
       "<table border=\"1\" class=\"dataframe\">\n",
       "  <thead>\n",
       "    <tr style=\"text-align: right;\">\n",
       "      <th></th>\n",
       "      <th>id</th>\n",
       "      <th>name</th>\n",
       "      <th>artists</th>\n",
       "      <th>acousticness</th>\n",
       "      <th>danceability</th>\n",
       "      <th>energy</th>\n",
       "      <th>instrumentalness</th>\n",
       "      <th>liveness</th>\n",
       "      <th>speechiness</th>\n",
       "      <th>acousticness_artist</th>\n",
       "      <th>danceability_artist</th>\n",
       "      <th>energy_artist</th>\n",
       "      <th>instrumentalness_artist</th>\n",
       "      <th>liveness_artist</th>\n",
       "      <th>speechiness_artist</th>\n",
       "      <th>popularity</th>\n",
       "    </tr>\n",
       "  </thead>\n",
       "  <tbody>\n",
       "    <tr>\n",
       "      <th>0</th>\n",
       "      <td>0</td>\n",
       "      <td>death bed (coffee for your head) (feat. beabad...</td>\n",
       "      <td>Powfu</td>\n",
       "      <td>0.7310</td>\n",
       "      <td>0.726</td>\n",
       "      <td>0.431</td>\n",
       "      <td>0.00000</td>\n",
       "      <td>0.696</td>\n",
       "      <td>0.1350</td>\n",
       "      <td>0.393250</td>\n",
       "      <td>0.809500</td>\n",
       "      <td>0.408750</td>\n",
       "      <td>0.000062</td>\n",
       "      <td>0.234088</td>\n",
       "      <td>0.131225</td>\n",
       "      <td>58.462730</td>\n",
       "    </tr>\n",
       "    <tr>\n",
       "      <th>1</th>\n",
       "      <td>1</td>\n",
       "      <td>THE SCOTTS</td>\n",
       "      <td>THE SCOTTS</td>\n",
       "      <td>0.2330</td>\n",
       "      <td>0.716</td>\n",
       "      <td>0.537</td>\n",
       "      <td>0.00000</td>\n",
       "      <td>0.157</td>\n",
       "      <td>0.0514</td>\n",
       "      <td>0.307500</td>\n",
       "      <td>0.706500</td>\n",
       "      <td>0.521000</td>\n",
       "      <td>0.000000</td>\n",
       "      <td>0.159000</td>\n",
       "      <td>0.052050</td>\n",
       "      <td>46.535912</td>\n",
       "    </tr>\n",
       "    <tr>\n",
       "      <th>2</th>\n",
       "      <td>2</td>\n",
       "      <td>The Box</td>\n",
       "      <td>Roddy Ricch</td>\n",
       "      <td>0.1040</td>\n",
       "      <td>0.896</td>\n",
       "      <td>0.586</td>\n",
       "      <td>0.00000</td>\n",
       "      <td>0.790</td>\n",
       "      <td>0.0559</td>\n",
       "      <td>0.184209</td>\n",
       "      <td>0.784984</td>\n",
       "      <td>0.627953</td>\n",
       "      <td>0.000013</td>\n",
       "      <td>0.167566</td>\n",
       "      <td>0.229681</td>\n",
       "      <td>59.960492</td>\n",
       "    </tr>\n",
       "    <tr>\n",
       "      <th>3</th>\n",
       "      <td>3</td>\n",
       "      <td>ily (i love you baby) (feat. Emilee)</td>\n",
       "      <td>Surf Mesa</td>\n",
       "      <td>0.0686</td>\n",
       "      <td>0.674</td>\n",
       "      <td>0.774</td>\n",
       "      <td>0.00188</td>\n",
       "      <td>0.393</td>\n",
       "      <td>0.0892</td>\n",
       "      <td>0.043200</td>\n",
       "      <td>0.680667</td>\n",
       "      <td>0.709333</td>\n",
       "      <td>0.000627</td>\n",
       "      <td>0.193000</td>\n",
       "      <td>0.058133</td>\n",
       "      <td>56.750175</td>\n",
       "    </tr>\n",
       "    <tr>\n",
       "      <th>4</th>\n",
       "      <td>4</td>\n",
       "      <td>Supalonely</td>\n",
       "      <td>BENEE</td>\n",
       "      <td>0.3050</td>\n",
       "      <td>0.863</td>\n",
       "      <td>0.631</td>\n",
       "      <td>0.00003</td>\n",
       "      <td>0.123</td>\n",
       "      <td>0.0534</td>\n",
       "      <td>0.345733</td>\n",
       "      <td>0.757444</td>\n",
       "      <td>0.574333</td>\n",
       "      <td>0.000010</td>\n",
       "      <td>0.145644</td>\n",
       "      <td>0.041956</td>\n",
       "      <td>54.670028</td>\n",
       "    </tr>\n",
       "  </tbody>\n",
       "</table>\n",
       "</div>"
      ],
      "text/plain": [
       "   id                                               name      artists  \\\n",
       "0   0  death bed (coffee for your head) (feat. beabad...        Powfu   \n",
       "1   1                                         THE SCOTTS   THE SCOTTS   \n",
       "2   2                                            The Box  Roddy Ricch   \n",
       "3   3               ily (i love you baby) (feat. Emilee)    Surf Mesa   \n",
       "4   4                                         Supalonely        BENEE   \n",
       "\n",
       "   acousticness  danceability  energy  instrumentalness  liveness  \\\n",
       "0        0.7310         0.726   0.431           0.00000     0.696   \n",
       "1        0.2330         0.716   0.537           0.00000     0.157   \n",
       "2        0.1040         0.896   0.586           0.00000     0.790   \n",
       "3        0.0686         0.674   0.774           0.00188     0.393   \n",
       "4        0.3050         0.863   0.631           0.00003     0.123   \n",
       "\n",
       "   speechiness  acousticness_artist  danceability_artist  energy_artist  \\\n",
       "0       0.1350             0.393250             0.809500       0.408750   \n",
       "1       0.0514             0.307500             0.706500       0.521000   \n",
       "2       0.0559             0.184209             0.784984       0.627953   \n",
       "3       0.0892             0.043200             0.680667       0.709333   \n",
       "4       0.0534             0.345733             0.757444       0.574333   \n",
       "\n",
       "   instrumentalness_artist  liveness_artist  speechiness_artist  popularity  \n",
       "0                 0.000062         0.234088            0.131225   58.462730  \n",
       "1                 0.000000         0.159000            0.052050   46.535912  \n",
       "2                 0.000013         0.167566            0.229681   59.960492  \n",
       "3                 0.000627         0.193000            0.058133   56.750175  \n",
       "4                 0.000010         0.145644            0.041956   54.670028  "
      ]
     },
     "execution_count": 6,
     "metadata": {},
     "output_type": "execute_result"
    }
   ],
   "source": [
    "data.head()"
   ]
  },
  {
   "cell_type": "markdown",
   "metadata": {},
   "source": [
    "Data Split for training and testing"
   ]
  },
  {
   "cell_type": "code",
   "execution_count": 7,
   "metadata": {},
   "outputs": [],
   "source": [
    "y = data['popularity']\n",
    "X = data.drop(columns=['name', 'artists', 'id', 'popularity'])\n",
    "\n",
    "\n",
    "# Split the data into training and testing sets\n",
    "X_train, X_test, y_train, y_test = train_test_split(X, y, test_size=0.2, random_state=42)\n",
    "\n",
    "\n",
    "# Scale the features\n",
    "scaler = StandardScaler()\n",
    "X_train_scaled = scaler.fit_transform(X_train)\n",
    "X_test_scaled = scaler.transform(X_test)\n"
   ]
  },
  {
   "cell_type": "markdown",
   "metadata": {},
   "source": [
    "Model Training"
   ]
  },
  {
   "cell_type": "code",
   "execution_count": 8,
   "metadata": {},
   "outputs": [
    {
     "name": "stdout",
     "output_type": "stream",
     "text": [
      "Epoch 1/10\n",
      "2176/2176 [==============================] - 4s 2ms/step - loss: 123.0161 - val_loss: 2.5577\n",
      "Epoch 2/10\n",
      "2176/2176 [==============================] - 3s 2ms/step - loss: 0.6499 - val_loss: 0.1320\n",
      "Epoch 3/10\n",
      "2176/2176 [==============================] - 4s 2ms/step - loss: 0.0533 - val_loss: 0.0450\n",
      "Epoch 4/10\n",
      "2176/2176 [==============================] - 4s 2ms/step - loss: 0.0212 - val_loss: 0.0421\n",
      "Epoch 5/10\n",
      "2176/2176 [==============================] - 4s 2ms/step - loss: 0.0142 - val_loss: 0.0176\n",
      "Epoch 6/10\n",
      "2176/2176 [==============================] - 4s 2ms/step - loss: 0.0103 - val_loss: 0.0121\n",
      "Epoch 7/10\n",
      "2176/2176 [==============================] - 3s 2ms/step - loss: 0.0098 - val_loss: 0.0440\n",
      "Epoch 8/10\n",
      "2176/2176 [==============================] - 3s 2ms/step - loss: 0.0090 - val_loss: 0.0059\n",
      "Epoch 9/10\n",
      "2176/2176 [==============================] - 4s 2ms/step - loss: 0.0069 - val_loss: 0.0096\n",
      "Epoch 10/10\n",
      "2176/2176 [==============================] - 4s 2ms/step - loss: 0.0068 - val_loss: 0.0046\n"
     ]
    },
    {
     "data": {
      "text/plain": [
       "<keras.src.callbacks.History at 0x23874bc5310>"
      ]
     },
     "execution_count": 8,
     "metadata": {},
     "output_type": "execute_result"
    }
   ],
   "source": [
    "\n",
    "# Step 2: Model Training\n",
    "# Define and train a deep learning model\n",
    "model = Sequential()\n",
    "model.add(Dense(64, activation='relu', input_shape=(X_train_scaled.shape[1],)))\n",
    "model.add(Dense(32, activation='relu'))\n",
    "model.add(Dense(1, activation='linear'))  # Linear activation for regression task\n",
    "model.compile(optimizer='adam', loss='mean_squared_error')\n",
    "model.fit(X_train_scaled, y_train, epochs=10, batch_size=32, validation_data=(X_test_scaled, y_test))"
   ]
  },
  {
   "cell_type": "code",
   "execution_count": null,
   "metadata": {},
   "outputs": [],
   "source": []
  },
  {
   "cell_type": "markdown",
   "metadata": {},
   "source": [
    "Display 5 songs and get user feedback and Reiterate"
   ]
  },
  {
   "cell_type": "code",
   "execution_count": 9,
   "metadata": {},
   "outputs": [],
   "source": [
    "# Define a blending function to adjust the popularity values\n",
    "def adjust_popularity(original_popularity, user_rating, user_scale_portion):\n",
    "    # Define the weights for blending\n",
    "    original_weight = 0.8  # Weight for the original popularity value\n",
    "    user_weight = 0.2  # Weight for the user rating and scale portion\n",
    "    \n",
    "    # Calculate the adjusted popularity value using a weighted average\n",
    "    adjusted_popularity = (original_weight * original_popularity) + (user_weight * (user_rating * (user_scale_portion / 10)))\n",
    "    \n",
    "    return adjusted_popularity"
   ]
  },
  {
   "cell_type": "code",
   "execution_count": 11,
   "metadata": {},
   "outputs": [
    {
     "name": "stdout",
     "output_type": "stream",
     "text": [
      "Songs Recommended for you:\n",
      "The Improv Fairy Tale by Mitch Hedberg\n",
      "Pissed Off by Dane Cook\n",
      "The World on Fire by Jim Morrison\n",
      "Free Dog by Bill Burr\n",
      "You know who's a great lady? by John Mulaney\n"
     ]
    },
    {
     "name": "stdout",
     "output_type": "stream",
     "text": [
      "Do you want to continue: (yes/no) Enter no to exit\n",
      "\n",
      "\n",
      "Thank You for using out System :)\n"
     ]
    }
   ],
   "source": [
    "prompt = 'yes'\n",
    "\n",
    "while prompt=='yes':\n",
    "\n",
    "    # SORT THE DATAFRAME AND GET TOP 5 VALUES\n",
    "    sorted_data = data.sort_values(by='popularity', ascending=False)\n",
    "    top_songs = sorted_data.head(5)\n",
    "    top_songs\n",
    "    print(\"Songs Recommended for you:\")\n",
    "    for index, song in top_songs.iterrows():\n",
    "        print(f\"{song['name']} by {song['artists']}\")\n",
    "\n",
    "    #GET USER FEEDBACK ON THE 5 SONGS\n",
    "    user_feedback = {}\n",
    "    for i, song in top_songs.iterrows():\n",
    "        \n",
    "        #change this for the case where user gives empty string\n",
    "        feedback = input(f\"On a scale of 1 to 10, how much do you like '{song['name']}' by {song['artists']}? \")\n",
    "        user_feedback[song['name']]=(float(feedback))\n",
    "    \n",
    "\n",
    "    #UPDATE THE MAIN DATASET BASE ON USER RECOMMENDATIONS\n",
    "    for song_name, rating in user_feedback.items():\n",
    "        rows = data[data['name'] == song_name]\n",
    "        if not rows.empty:\n",
    "            original_popularity = rows['popularity'].iloc[0]  \n",
    "            adjusted_popularity = adjust_popularity(original_popularity, rating, user_scale_portion=10)  \n",
    "            data.loc[data['name'] == song_name, 'popularity'] = adjusted_popularity\n",
    "\n",
    "    print(\"Do you want to continue: (yes/no) Enter no to exit\\n\")\n",
    "    prompt = input()\n",
    "print(\"\\nThank You for using out System :)\")\n",
    "\n",
    "\n",
    "\n",
    "    "
   ]
  },
  {
   "cell_type": "code",
   "execution_count": 12,
   "metadata": {},
   "outputs": [
    {
     "name": "stderr",
     "output_type": "stream",
     "text": [
      "c:\\Users\\kadal\\AppData\\Local\\Programs\\Python\\Python311\\Lib\\site-packages\\keras\\src\\engine\\training.py:3000: UserWarning: You are saving your model as an HDF5 file via `model.save()`. This file format is considered legacy. We recommend using instead the native Keras format, e.g. `model.save('my_model.keras')`.\n",
      "  saving_api.save_model(\n"
     ]
    }
   ],
   "source": [
    "model.save(\"Recommender.h5\")"
   ]
  },
  {
   "cell_type": "code",
   "execution_count": null,
   "metadata": {},
   "outputs": [],
   "source": []
  }
 ],
 "metadata": {
  "kernelspec": {
   "display_name": "Python 3",
   "language": "python",
   "name": "python3"
  },
  "language_info": {
   "codemirror_mode": {
    "name": "ipython",
    "version": 3
   },
   "file_extension": ".py",
   "mimetype": "text/x-python",
   "name": "python",
   "nbconvert_exporter": "python",
   "pygments_lexer": "ipython3",
   "version": "3.11.3"
  }
 },
 "nbformat": 4,
 "nbformat_minor": 2
}
