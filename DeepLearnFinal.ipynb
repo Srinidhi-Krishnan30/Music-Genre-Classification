{
 "cells": [
  {
   "cell_type": "markdown",
   "metadata": {},
   "source": [
    "Data Loading"
   ]
  },
  {
   "cell_type": "code",
   "execution_count": 1,
   "metadata": {},
   "outputs": [],
   "source": [
    "import pandas as pd\n",
    "import numpy as np\n",
    "from sklearn.model_selection import train_test_split\n",
    "from sklearn.preprocessing import StandardScaler\n",
    "from keras.models import Sequential\n",
    "from keras.layers import Dense\n",
    "\n",
    "# Step 1: Data Preprocessing\n",
    "# Load the two CSV files\n",
    "\n",
    "data = pd.read_csv(\"song_artist.csv\")"
   ]
  },
  {
   "cell_type": "markdown",
   "metadata": {},
   "source": [
    "Data Preprocessing"
   ]
  },
  {
   "cell_type": "code",
   "execution_count": 2,
   "metadata": {},
   "outputs": [],
   "source": [
    "def adjust_weights(activity):\n",
    "    # Define base weights\n",
    "    base_weights = {\n",
    "        'acousticness': 0.1,\n",
    "        'danceability': 0.2,\n",
    "        'energy': 0.3,\n",
    "        'instrumentalness': 0.1,\n",
    "        'liveness': 0.1,\n",
    "        'speechiness': 0.2\n",
    "    }\n",
    "\n",
    "    # Define weight adjustments based on activity\n",
    "    activity_adjustments = {\n",
    "        'gym': {'danceability': 0.2, 'energy': 0.4},\n",
    "        'relaxation': {'acousticness': 0.3, 'instrumentalness': 0.3},\n",
    "        'focus': {'instrumentalness': 0.4, 'speechiness': 0.3},\n",
    "        'party': {'danceability': 0.4, 'energy': 0.5, 'liveness': 0.3}\n",
    "        # Add more activity adjustments as needed\n",
    "    }\n",
    "\n",
    "    # Apply adjustments\n",
    "    adjusted_weights = base_weights.copy()\n",
    "    if activity in activity_adjustments:\n",
    "        for feature, adjustment in activity_adjustments[activity].items():\n",
    "            adjusted_weights[feature] += adjustment\n",
    "\n",
    "    return adjusted_weights"
   ]
  },
  {
   "cell_type": "code",
   "execution_count": 3,
   "metadata": {},
   "outputs": [],
   "source": [
    "# Get user's current activity\n",
    "user_activity = input(\"Enter your current activity (gym, relaxation, focus, party, etc.): \").lower()\n",
    "\n",
    "# Adjust weights based on the user's activity\n",
    "adjusted_weights = adjust_weights(user_activity)\n",
    "\n",
    "# Calculate popularity score using adjusted weights\n",
    "data['popularity'] = sum(data[feature] * weight for feature, weight in adjusted_weights.items())\n",
    "\n",
    "# Normalize the popularity score to a range between 0 and 100 (optional)\n",
    "data['popularity'] = (data['popularity'] - data['popularity'].min()) / (data['popularity'].max() - data['popularity'].min()) * 100"
   ]
  },
  {
   "cell_type": "code",
   "execution_count": 4,
   "metadata": {},
   "outputs": [
    {
     "data": {
      "text/plain": [
       "id                           int64\n",
       "name                        object\n",
       "artists                     object\n",
       "acousticness               float64\n",
       "danceability               float64\n",
       "energy                     float64\n",
       "instrumentalness           float64\n",
       "liveness                   float64\n",
       "speechiness                float64\n",
       "acousticness_artist        float64\n",
       "danceability_artist        float64\n",
       "energy_artist              float64\n",
       "instrumentalness_artist    float64\n",
       "liveness_artist            float64\n",
       "speechiness_artist         float64\n",
       "popularity                 float64\n",
       "dtype: object"
      ]
     },
     "execution_count": 4,
     "metadata": {},
     "output_type": "execute_result"
    }
   ],
   "source": [
    "data.dtypes"
   ]
  },
  {
   "cell_type": "code",
   "execution_count": 5,
   "metadata": {},
   "outputs": [
    {
     "data": {
      "text/html": [
       "<div>\n",
       "<style scoped>\n",
       "    .dataframe tbody tr th:only-of-type {\n",
       "        vertical-align: middle;\n",
       "    }\n",
       "\n",
       "    .dataframe tbody tr th {\n",
       "        vertical-align: top;\n",
       "    }\n",
       "\n",
       "    .dataframe thead th {\n",
       "        text-align: right;\n",
       "    }\n",
       "</style>\n",
       "<table border=\"1\" class=\"dataframe\">\n",
       "  <thead>\n",
       "    <tr style=\"text-align: right;\">\n",
       "      <th></th>\n",
       "      <th>id</th>\n",
       "      <th>name</th>\n",
       "      <th>artists</th>\n",
       "      <th>acousticness</th>\n",
       "      <th>danceability</th>\n",
       "      <th>energy</th>\n",
       "      <th>instrumentalness</th>\n",
       "      <th>liveness</th>\n",
       "      <th>speechiness</th>\n",
       "      <th>acousticness_artist</th>\n",
       "      <th>danceability_artist</th>\n",
       "      <th>energy_artist</th>\n",
       "      <th>instrumentalness_artist</th>\n",
       "      <th>liveness_artist</th>\n",
       "      <th>speechiness_artist</th>\n",
       "      <th>popularity</th>\n",
       "    </tr>\n",
       "  </thead>\n",
       "  <tbody>\n",
       "    <tr>\n",
       "      <th>0</th>\n",
       "      <td>0</td>\n",
       "      <td>death bed (coffee for your head) (feat. beabad...</td>\n",
       "      <td>Powfu</td>\n",
       "      <td>0.7310</td>\n",
       "      <td>0.726</td>\n",
       "      <td>0.431</td>\n",
       "      <td>0.00000</td>\n",
       "      <td>0.696</td>\n",
       "      <td>0.1350</td>\n",
       "      <td>0.393250</td>\n",
       "      <td>0.809500</td>\n",
       "      <td>0.408750</td>\n",
       "      <td>0.000062</td>\n",
       "      <td>0.234088</td>\n",
       "      <td>0.131225</td>\n",
       "      <td>60.628731</td>\n",
       "    </tr>\n",
       "    <tr>\n",
       "      <th>1</th>\n",
       "      <td>1</td>\n",
       "      <td>THE SCOTTS</td>\n",
       "      <td>THE SCOTTS</td>\n",
       "      <td>0.2330</td>\n",
       "      <td>0.716</td>\n",
       "      <td>0.537</td>\n",
       "      <td>0.00000</td>\n",
       "      <td>0.157</td>\n",
       "      <td>0.0514</td>\n",
       "      <td>0.307500</td>\n",
       "      <td>0.706500</td>\n",
       "      <td>0.521000</td>\n",
       "      <td>0.000000</td>\n",
       "      <td>0.159000</td>\n",
       "      <td>0.052050</td>\n",
       "      <td>56.631914</td>\n",
       "    </tr>\n",
       "    <tr>\n",
       "      <th>2</th>\n",
       "      <td>2</td>\n",
       "      <td>The Box</td>\n",
       "      <td>Roddy Ricch</td>\n",
       "      <td>0.1040</td>\n",
       "      <td>0.896</td>\n",
       "      <td>0.586</td>\n",
       "      <td>0.00000</td>\n",
       "      <td>0.790</td>\n",
       "      <td>0.0559</td>\n",
       "      <td>0.184209</td>\n",
       "      <td>0.784984</td>\n",
       "      <td>0.627953</td>\n",
       "      <td>0.000013</td>\n",
       "      <td>0.167566</td>\n",
       "      <td>0.229681</td>\n",
       "      <td>69.174692</td>\n",
       "    </tr>\n",
       "    <tr>\n",
       "      <th>3</th>\n",
       "      <td>3</td>\n",
       "      <td>ily (i love you baby) (feat. Emilee)</td>\n",
       "      <td>Surf Mesa</td>\n",
       "      <td>0.0686</td>\n",
       "      <td>0.674</td>\n",
       "      <td>0.774</td>\n",
       "      <td>0.00188</td>\n",
       "      <td>0.393</td>\n",
       "      <td>0.0892</td>\n",
       "      <td>0.043200</td>\n",
       "      <td>0.680667</td>\n",
       "      <td>0.709333</td>\n",
       "      <td>0.000627</td>\n",
       "      <td>0.193000</td>\n",
       "      <td>0.058133</td>\n",
       "      <td>69.684680</td>\n",
       "    </tr>\n",
       "    <tr>\n",
       "      <th>4</th>\n",
       "      <td>4</td>\n",
       "      <td>Supalonely</td>\n",
       "      <td>BENEE</td>\n",
       "      <td>0.3050</td>\n",
       "      <td>0.863</td>\n",
       "      <td>0.631</td>\n",
       "      <td>0.00003</td>\n",
       "      <td>0.123</td>\n",
       "      <td>0.0534</td>\n",
       "      <td>0.345733</td>\n",
       "      <td>0.757444</td>\n",
       "      <td>0.574333</td>\n",
       "      <td>0.000010</td>\n",
       "      <td>0.145644</td>\n",
       "      <td>0.041956</td>\n",
       "      <td>66.882852</td>\n",
       "    </tr>\n",
       "  </tbody>\n",
       "</table>\n",
       "</div>"
      ],
      "text/plain": [
       "   id                                               name      artists  \\\n",
       "0   0  death bed (coffee for your head) (feat. beabad...        Powfu   \n",
       "1   1                                         THE SCOTTS   THE SCOTTS   \n",
       "2   2                                            The Box  Roddy Ricch   \n",
       "3   3               ily (i love you baby) (feat. Emilee)    Surf Mesa   \n",
       "4   4                                         Supalonely        BENEE   \n",
       "\n",
       "   acousticness  danceability  energy  instrumentalness  liveness  \\\n",
       "0        0.7310         0.726   0.431           0.00000     0.696   \n",
       "1        0.2330         0.716   0.537           0.00000     0.157   \n",
       "2        0.1040         0.896   0.586           0.00000     0.790   \n",
       "3        0.0686         0.674   0.774           0.00188     0.393   \n",
       "4        0.3050         0.863   0.631           0.00003     0.123   \n",
       "\n",
       "   speechiness  acousticness_artist  danceability_artist  energy_artist  \\\n",
       "0       0.1350             0.393250             0.809500       0.408750   \n",
       "1       0.0514             0.307500             0.706500       0.521000   \n",
       "2       0.0559             0.184209             0.784984       0.627953   \n",
       "3       0.0892             0.043200             0.680667       0.709333   \n",
       "4       0.0534             0.345733             0.757444       0.574333   \n",
       "\n",
       "   instrumentalness_artist  liveness_artist  speechiness_artist  popularity  \n",
       "0                 0.000062         0.234088            0.131225   60.628731  \n",
       "1                 0.000000         0.159000            0.052050   56.631914  \n",
       "2                 0.000013         0.167566            0.229681   69.174692  \n",
       "3                 0.000627         0.193000            0.058133   69.684680  \n",
       "4                 0.000010         0.145644            0.041956   66.882852  "
      ]
     },
     "execution_count": 5,
     "metadata": {},
     "output_type": "execute_result"
    }
   ],
   "source": [
    "data.head()"
   ]
  },
  {
   "cell_type": "markdown",
   "metadata": {},
   "source": [
    "Data Split for training and testing"
   ]
  },
  {
   "cell_type": "code",
   "execution_count": 6,
   "metadata": {},
   "outputs": [],
   "source": [
    "y = data['popularity']\n",
    "X = data.drop(columns=['name', 'artists', 'id', 'popularity'])\n",
    "\n",
    "\n",
    "# Split the data into training and testing sets\n",
    "X_train, X_test, y_train, y_test = train_test_split(X, y, test_size=0.2, random_state=42)\n",
    "\n",
    "\n",
    "# Scale the features\n",
    "scaler = StandardScaler()\n",
    "X_train_scaled = scaler.fit_transform(X_train)\n",
    "X_test_scaled = scaler.transform(X_test)\n"
   ]
  },
  {
   "cell_type": "markdown",
   "metadata": {},
   "source": [
    "Model Training"
   ]
  },
  {
   "cell_type": "code",
   "execution_count": 7,
   "metadata": {},
   "outputs": [
    {
     "name": "stdout",
     "output_type": "stream",
     "text": [
      "Epoch 1/10\n",
      "2176/2176 [==============================] - 5s 2ms/step - loss: 215.4644 - val_loss: 3.8481\n",
      "Epoch 2/10\n",
      "2176/2176 [==============================] - 4s 2ms/step - loss: 0.9040 - val_loss: 0.1792\n",
      "Epoch 3/10\n",
      "2176/2176 [==============================] - 4s 2ms/step - loss: 0.1008 - val_loss: 0.0732\n",
      "Epoch 4/10\n",
      "2176/2176 [==============================] - 6s 3ms/step - loss: 0.0498 - val_loss: 0.0471\n",
      "Epoch 5/10\n",
      "2176/2176 [==============================] - 7s 3ms/step - loss: 0.0324 - val_loss: 0.0190\n",
      "Epoch 6/10\n",
      "2176/2176 [==============================] - 6s 3ms/step - loss: 0.0238 - val_loss: 0.0183\n",
      "Epoch 7/10\n",
      "2176/2176 [==============================] - 6s 3ms/step - loss: 0.0199 - val_loss: 0.0129\n",
      "Epoch 8/10\n",
      "2176/2176 [==============================] - 6s 3ms/step - loss: 0.0173 - val_loss: 0.0102\n",
      "Epoch 9/10\n",
      "2176/2176 [==============================] - 6s 3ms/step - loss: 0.0120 - val_loss: 0.0244\n",
      "Epoch 10/10\n",
      "2176/2176 [==============================] - 6s 3ms/step - loss: 0.0134 - val_loss: 0.0083\n"
     ]
    },
    {
     "data": {
      "text/plain": [
       "<keras.src.callbacks.History at 0x26ecbb97990>"
      ]
     },
     "execution_count": 7,
     "metadata": {},
     "output_type": "execute_result"
    }
   ],
   "source": [
    "\n",
    "# Step 2: Model Training\n",
    "# Define and train a deep learning model\n",
    "model = Sequential()\n",
    "model.add(Dense(64, activation='relu', input_shape=(X_train_scaled.shape[1],)))\n",
    "model.add(Dense(32, activation='relu'))\n",
    "model.add(Dense(1, activation='linear'))  # Linear activation for regression task\n",
    "model.compile(optimizer='adam', loss='mean_squared_error')\n",
    "model.fit(X_train_scaled, y_train, epochs=10, batch_size=32, validation_data=(X_test_scaled, y_test))"
   ]
  },
  {
   "cell_type": "markdown",
   "metadata": {},
   "source": [
    "Display 5 songs and get user feedback and Reiterate"
   ]
  },
  {
   "cell_type": "code",
   "execution_count": 8,
   "metadata": {},
   "outputs": [],
   "source": [
    "# Define a blending function to adjust the popularity values\n",
    "def adjust_popularity(original_popularity, user_rating, user_scale_portion):\n",
    "    # Define the weights for blending\n",
    "    original_weight = 0.8  # Weight for the original popularity value\n",
    "    user_weight = 0.2  # Weight for the user rating and scale portion\n",
    "    \n",
    "    # Calculate the adjusted popularity value using a weighted average\n",
    "    adjusted_popularity = (original_weight * original_popularity) + (user_weight * (user_rating * (user_scale_portion / 10)))\n",
    "    \n",
    "    return adjusted_popularity"
   ]
  },
  {
   "cell_type": "code",
   "execution_count": 9,
   "metadata": {},
   "outputs": [
    {
     "name": "stdout",
     "output_type": "stream",
     "text": [
      "Songs Recommended for you:\n",
      "Pissed Off by Dane Cook\n",
      "I Didn't Come From a Monkey, I Came From Jesus/Evolution by Joe Rogan\n",
      "The Improv Fairy Tale by Mitch Hedberg\n",
      "Free Dog by Bill Burr\n",
      "The Worse Word by John Mulaney\n",
      "Do you want to continue: (yes/no) Enter no to exit\n",
      "\n",
      "\n",
      "Thank You for using out System :)\n"
     ]
    }
   ],
   "source": [
    "prompt = 'yes'\n",
    "\n",
    "while prompt=='yes':\n",
    "\n",
    "    # SORT THE DATAFRAME AND GET TOP 5 VALUES\n",
    "    sorted_data = data.sort_values(by='popularity', ascending=False)\n",
    "    top_songs = sorted_data.head(5)\n",
    "    top_songs\n",
    "    print(\"Songs Recommended for you:\")\n",
    "    for index, song in top_songs.iterrows():\n",
    "        print(f\"{song['name']} by {song['artists']}\")\n",
    "\n",
    "    #GET USER FEEDBACK ON THE 5 SONGS\n",
    "    user_feedback = {}\n",
    "    for i, song in top_songs.iterrows():\n",
    "        feedback = input(f\"On a scale of 1 to 10, how much do you like '{song['name']}' by {song['artists']}? \")\n",
    "        user_feedback[song['name']]=(float(feedback))\n",
    "    \n",
    "\n",
    "    #UPDATE THE MAIN DATASET BASE ON USER RECOMMENDATIONS\n",
    "    for song_name, rating in user_feedback.items():\n",
    "        rows = data[data['name'] == song_name]\n",
    "        if not rows.empty:\n",
    "            original_popularity = rows['popularity'].iloc[0]  \n",
    "            adjusted_popularity = adjust_popularity(original_popularity, rating, user_scale_portion=10)  \n",
    "            data.loc[data['name'] == song_name, 'popularity'] = adjusted_popularity\n",
    "\n",
    "    print(\"Do you want to continue: (yes/no) Enter no to exit\\n\")\n",
    "    prompt = input()\n",
    "print(\"\\nThank You for using out System :)\")\n",
    "\n",
    "\n",
    "\n",
    "    "
   ]
  },
  {
   "cell_type": "code",
   "execution_count": 3,
   "metadata": {},
   "outputs": [],
   "source": [
    "import spotipy\n",
    "from spotipy.oauth2 import SpotifyOAuth\n"
   ]
  },
  {
   "cell_type": "code",
   "execution_count": 4,
   "metadata": {},
   "outputs": [],
   "source": [
    "# Replace these with your app's credentials\n",
    "CLIENT_ID = '3721eeb82ff64e7fa6160c2ffb56eb3e'\n",
    "CLIENT_SECRET = 'eb08b2338acd4ceaa43764039288df53'\n",
    "REDIRECT_URI = 'http://localhost:8888/callback'\n",
    "\n",
    "# Scope for playback control\n",
    "SCOPE = 'user-modify-playback-state user-read-playback-state'\n",
    "\n",
    "# Authenticate and get the access token\n",
    "sp = spotipy.Spotify(auth_manager=SpotifyOAuth(client_id=CLIENT_ID,\n",
    "                                               client_secret=CLIENT_SECRET,\n",
    "                                               redirect_uri=REDIRECT_URI,\n",
    "                                               scope=SCOPE))"
   ]
  },
  {
   "cell_type": "code",
   "execution_count": 5,
   "metadata": {},
   "outputs": [
    {
     "name": "stdout",
     "output_type": "stream",
     "text": [
      "Playing Lord I Lift Your Name On High by Gospel Souls\n"
     ]
    },
    {
     "name": "stderr",
     "output_type": "stream",
     "text": [
      "HTTP Error for PUT to https://api.spotify.com/v1/me/player/play?device_id=eb5906f667985a4bd4988b0d05520446c9e1d30c with Params: {} returned 403 due to Player command failed: Premium required\n"
     ]
    },
    {
     "ename": "SpotifyException",
     "evalue": "http status: 403, code:-1 - https://api.spotify.com/v1/me/player/play?device_id=eb5906f667985a4bd4988b0d05520446c9e1d30c:\n Player command failed: Premium required, reason: PREMIUM_REQUIRED",
     "output_type": "error",
     "traceback": [
      "\u001b[1;31m---------------------------------------------------------------------------\u001b[0m",
      "\u001b[1;31mHTTPError\u001b[0m                                 Traceback (most recent call last)",
      "File \u001b[1;32mc:\\Users\\kadal\\AppData\\Local\\Programs\\Python\\Python311\\Lib\\site-packages\\spotipy\\client.py:271\u001b[0m, in \u001b[0;36mSpotify._internal_call\u001b[1;34m(self, method, url, payload, params)\u001b[0m\n\u001b[0;32m    266\u001b[0m response \u001b[38;5;241m=\u001b[39m \u001b[38;5;28mself\u001b[39m\u001b[38;5;241m.\u001b[39m_session\u001b[38;5;241m.\u001b[39mrequest(\n\u001b[0;32m    267\u001b[0m     method, url, headers\u001b[38;5;241m=\u001b[39mheaders, proxies\u001b[38;5;241m=\u001b[39m\u001b[38;5;28mself\u001b[39m\u001b[38;5;241m.\u001b[39mproxies,\n\u001b[0;32m    268\u001b[0m     timeout\u001b[38;5;241m=\u001b[39m\u001b[38;5;28mself\u001b[39m\u001b[38;5;241m.\u001b[39mrequests_timeout, \u001b[38;5;241m*\u001b[39m\u001b[38;5;241m*\u001b[39margs\n\u001b[0;32m    269\u001b[0m )\n\u001b[1;32m--> 271\u001b[0m \u001b[43mresponse\u001b[49m\u001b[38;5;241;43m.\u001b[39;49m\u001b[43mraise_for_status\u001b[49m\u001b[43m(\u001b[49m\u001b[43m)\u001b[49m\n\u001b[0;32m    272\u001b[0m results \u001b[38;5;241m=\u001b[39m response\u001b[38;5;241m.\u001b[39mjson()\n",
      "File \u001b[1;32mc:\\Users\\kadal\\AppData\\Local\\Programs\\Python\\Python311\\Lib\\site-packages\\requests\\models.py:1021\u001b[0m, in \u001b[0;36mResponse.raise_for_status\u001b[1;34m(self)\u001b[0m\n\u001b[0;32m   1020\u001b[0m \u001b[38;5;28;01mif\u001b[39;00m http_error_msg:\n\u001b[1;32m-> 1021\u001b[0m     \u001b[38;5;28;01mraise\u001b[39;00m HTTPError(http_error_msg, response\u001b[38;5;241m=\u001b[39m\u001b[38;5;28mself\u001b[39m)\n",
      "\u001b[1;31mHTTPError\u001b[0m: 403 Client Error: Forbidden for url: https://api.spotify.com/v1/me/player/play?device_id=eb5906f667985a4bd4988b0d05520446c9e1d30c",
      "\nDuring handling of the above exception, another exception occurred:\n",
      "\u001b[1;31mSpotifyException\u001b[0m                          Traceback (most recent call last)",
      "Cell \u001b[1;32mIn[5], line 30\u001b[0m\n\u001b[0;32m     27\u001b[0m         \u001b[38;5;28mprint\u001b[39m(\u001b[38;5;124m\"\u001b[39m\u001b[38;5;124mTrack not found.\u001b[39m\u001b[38;5;124m\"\u001b[39m)\n\u001b[0;32m     29\u001b[0m \u001b[38;5;66;03m# Example usage: replace 'Your Song Name' with the actual song name you want to play\u001b[39;00m\n\u001b[1;32m---> 30\u001b[0m \u001b[43mplay_song_on_pc\u001b[49m\u001b[43m(\u001b[49m\u001b[38;5;124;43m'\u001b[39;49m\u001b[38;5;124;43mYour Song Name\u001b[39;49m\u001b[38;5;124;43m'\u001b[39;49m\u001b[43m)\u001b[49m\n",
      "Cell \u001b[1;32mIn[5], line 23\u001b[0m, in \u001b[0;36mplay_song_on_pc\u001b[1;34m(song_name, device_name)\u001b[0m\n\u001b[0;32m     19\u001b[0m         \u001b[38;5;28;01mbreak\u001b[39;00m\n\u001b[0;32m     21\u001b[0m \u001b[38;5;28;01mif\u001b[39;00m device_id:\n\u001b[0;32m     22\u001b[0m     \u001b[38;5;66;03m# Start playback on the device\u001b[39;00m\n\u001b[1;32m---> 23\u001b[0m     \u001b[43msp\u001b[49m\u001b[38;5;241;43m.\u001b[39;49m\u001b[43mstart_playback\u001b[49m\u001b[43m(\u001b[49m\u001b[43mdevice_id\u001b[49m\u001b[38;5;241;43m=\u001b[39;49m\u001b[43mdevice_id\u001b[49m\u001b[43m,\u001b[49m\u001b[43m \u001b[49m\u001b[43muris\u001b[49m\u001b[38;5;241;43m=\u001b[39;49m\u001b[43m[\u001b[49m\u001b[38;5;124;43mf\u001b[39;49m\u001b[38;5;124;43m'\u001b[39;49m\u001b[38;5;124;43mspotify:track:\u001b[39;49m\u001b[38;5;132;43;01m{\u001b[39;49;00m\u001b[43mtrack_id\u001b[49m\u001b[38;5;132;43;01m}\u001b[39;49;00m\u001b[38;5;124;43m'\u001b[39;49m\u001b[43m]\u001b[49m\u001b[43m)\u001b[49m\n\u001b[0;32m     24\u001b[0m \u001b[38;5;28;01melse\u001b[39;00m:\n\u001b[0;32m     25\u001b[0m     \u001b[38;5;28mprint\u001b[39m(\u001b[38;5;124mf\u001b[39m\u001b[38;5;124m\"\u001b[39m\u001b[38;5;124mDevice \u001b[39m\u001b[38;5;124m'\u001b[39m\u001b[38;5;132;01m{\u001b[39;00mdevice_name\u001b[38;5;132;01m}\u001b[39;00m\u001b[38;5;124m'\u001b[39m\u001b[38;5;124m not found.\u001b[39m\u001b[38;5;124m\"\u001b[39m)\n",
      "File \u001b[1;32mc:\\Users\\kadal\\AppData\\Local\\Programs\\Python\\Python311\\Lib\\site-packages\\spotipy\\client.py:1821\u001b[0m, in \u001b[0;36mSpotify.start_playback\u001b[1;34m(self, device_id, context_uri, uris, offset, position_ms)\u001b[0m\n\u001b[0;32m   1819\u001b[0m \u001b[38;5;28;01mif\u001b[39;00m position_ms \u001b[38;5;129;01mis\u001b[39;00m \u001b[38;5;129;01mnot\u001b[39;00m \u001b[38;5;28;01mNone\u001b[39;00m:\n\u001b[0;32m   1820\u001b[0m     data[\u001b[38;5;124m\"\u001b[39m\u001b[38;5;124mposition_ms\u001b[39m\u001b[38;5;124m\"\u001b[39m] \u001b[38;5;241m=\u001b[39m position_ms\n\u001b[1;32m-> 1821\u001b[0m \u001b[38;5;28;01mreturn\u001b[39;00m \u001b[38;5;28;43mself\u001b[39;49m\u001b[38;5;241;43m.\u001b[39;49m\u001b[43m_put\u001b[49m\u001b[43m(\u001b[49m\n\u001b[0;32m   1822\u001b[0m \u001b[43m    \u001b[49m\u001b[38;5;28;43mself\u001b[39;49m\u001b[38;5;241;43m.\u001b[39;49m\u001b[43m_append_device_id\u001b[49m\u001b[43m(\u001b[49m\u001b[38;5;124;43m\"\u001b[39;49m\u001b[38;5;124;43mme/player/play\u001b[39;49m\u001b[38;5;124;43m\"\u001b[39;49m\u001b[43m,\u001b[49m\u001b[43m \u001b[49m\u001b[43mdevice_id\u001b[49m\u001b[43m)\u001b[49m\u001b[43m,\u001b[49m\u001b[43m \u001b[49m\u001b[43mpayload\u001b[49m\u001b[38;5;241;43m=\u001b[39;49m\u001b[43mdata\u001b[49m\n\u001b[0;32m   1823\u001b[0m \u001b[43m\u001b[49m\u001b[43m)\u001b[49m\n",
      "File \u001b[1;32mc:\\Users\\kadal\\AppData\\Local\\Programs\\Python\\Python311\\Lib\\site-packages\\spotipy\\client.py:338\u001b[0m, in \u001b[0;36mSpotify._put\u001b[1;34m(self, url, args, payload, **kwargs)\u001b[0m\n\u001b[0;32m    336\u001b[0m \u001b[38;5;28;01mif\u001b[39;00m args:\n\u001b[0;32m    337\u001b[0m     kwargs\u001b[38;5;241m.\u001b[39mupdate(args)\n\u001b[1;32m--> 338\u001b[0m \u001b[38;5;28;01mreturn\u001b[39;00m \u001b[38;5;28;43mself\u001b[39;49m\u001b[38;5;241;43m.\u001b[39;49m\u001b[43m_internal_call\u001b[49m\u001b[43m(\u001b[49m\u001b[38;5;124;43m\"\u001b[39;49m\u001b[38;5;124;43mPUT\u001b[39;49m\u001b[38;5;124;43m\"\u001b[39;49m\u001b[43m,\u001b[49m\u001b[43m \u001b[49m\u001b[43murl\u001b[49m\u001b[43m,\u001b[49m\u001b[43m \u001b[49m\u001b[43mpayload\u001b[49m\u001b[43m,\u001b[49m\u001b[43m \u001b[49m\u001b[43mkwargs\u001b[49m\u001b[43m)\u001b[49m\n",
      "File \u001b[1;32mc:\\Users\\kadal\\AppData\\Local\\Programs\\Python\\Python311\\Lib\\site-packages\\spotipy\\client.py:293\u001b[0m, in \u001b[0;36mSpotify._internal_call\u001b[1;34m(self, method, url, payload, params)\u001b[0m\n\u001b[0;32m    286\u001b[0m         reason \u001b[38;5;241m=\u001b[39m \u001b[38;5;28;01mNone\u001b[39;00m\n\u001b[0;32m    288\u001b[0m     logger\u001b[38;5;241m.\u001b[39merror(\n\u001b[0;32m    289\u001b[0m         \u001b[38;5;124m'\u001b[39m\u001b[38;5;124mHTTP Error for \u001b[39m\u001b[38;5;132;01m%s\u001b[39;00m\u001b[38;5;124m to \u001b[39m\u001b[38;5;132;01m%s\u001b[39;00m\u001b[38;5;124m with Params: \u001b[39m\u001b[38;5;132;01m%s\u001b[39;00m\u001b[38;5;124m returned \u001b[39m\u001b[38;5;132;01m%s\u001b[39;00m\u001b[38;5;124m due to \u001b[39m\u001b[38;5;132;01m%s\u001b[39;00m\u001b[38;5;124m'\u001b[39m,\n\u001b[0;32m    290\u001b[0m         method, url, args\u001b[38;5;241m.\u001b[39mget(\u001b[38;5;124m\"\u001b[39m\u001b[38;5;124mparams\u001b[39m\u001b[38;5;124m\"\u001b[39m), response\u001b[38;5;241m.\u001b[39mstatus_code, msg\n\u001b[0;32m    291\u001b[0m     )\n\u001b[1;32m--> 293\u001b[0m     \u001b[38;5;28;01mraise\u001b[39;00m SpotifyException(\n\u001b[0;32m    294\u001b[0m         response\u001b[38;5;241m.\u001b[39mstatus_code,\n\u001b[0;32m    295\u001b[0m         \u001b[38;5;241m-\u001b[39m\u001b[38;5;241m1\u001b[39m,\n\u001b[0;32m    296\u001b[0m         \u001b[38;5;124m\"\u001b[39m\u001b[38;5;132;01m%s\u001b[39;00m\u001b[38;5;124m:\u001b[39m\u001b[38;5;130;01m\\n\u001b[39;00m\u001b[38;5;124m \u001b[39m\u001b[38;5;132;01m%s\u001b[39;00m\u001b[38;5;124m\"\u001b[39m \u001b[38;5;241m%\u001b[39m (response\u001b[38;5;241m.\u001b[39murl, msg),\n\u001b[0;32m    297\u001b[0m         reason\u001b[38;5;241m=\u001b[39mreason,\n\u001b[0;32m    298\u001b[0m         headers\u001b[38;5;241m=\u001b[39mresponse\u001b[38;5;241m.\u001b[39mheaders,\n\u001b[0;32m    299\u001b[0m     )\n\u001b[0;32m    300\u001b[0m \u001b[38;5;28;01mexcept\u001b[39;00m requests\u001b[38;5;241m.\u001b[39mexceptions\u001b[38;5;241m.\u001b[39mRetryError \u001b[38;5;28;01mas\u001b[39;00m retry_error:\n\u001b[0;32m    301\u001b[0m     request \u001b[38;5;241m=\u001b[39m retry_error\u001b[38;5;241m.\u001b[39mrequest\n",
      "\u001b[1;31mSpotifyException\u001b[0m: http status: 403, code:-1 - https://api.spotify.com/v1/me/player/play?device_id=eb5906f667985a4bd4988b0d05520446c9e1d30c:\n Player command failed: Premium required, reason: PREMIUM_REQUIRED"
     ]
    }
   ],
   "source": [
    "\n",
    "def play_song_on_pc(song_name, device_name=''):\n",
    "    # Search for the song\n",
    "    results = sp.search(q=song_name, limit=1, type='track')\n",
    "    if results['tracks']['items']:\n",
    "        track = results['tracks']['items'][0]\n",
    "        track_id = track['id']\n",
    "        track_name = track['name']\n",
    "        artist_name = track['artists'][0]['name']\n",
    "\n",
    "        print(f\"Playing {track_name} by {artist_name}\")\n",
    "\n",
    "        # Get the user's devices\n",
    "        devices = sp.devices()\n",
    "        device_id = None\n",
    "        for device in devices['devices']:\n",
    "            # Find the device with the specified name or default to PC-type device\n",
    "            if device['name'] == device_name or device['type'] == 'Computer':\n",
    "                device_id = device['id']\n",
    "                break\n",
    "\n",
    "        if device_id:\n",
    "            # Start playback on the device\n",
    "            sp.start_playback(device_id=device_id, uris=[f'spotify:track:{track_id}'])\n",
    "        else:\n",
    "            print(f\"Device '{device_name}' not found.\")\n",
    "    else:\n",
    "        print(\"Track not found.\")\n",
    "\n",
    "# Example usage: replace 'Your Song Name' with the actual song name you want to play\n",
    "play_song_on_pc('Your Song Name')\n"
   ]
  },
  {
   "cell_type": "code",
   "execution_count": null,
   "metadata": {},
   "outputs": [],
   "source": []
  }
 ],
 "metadata": {
  "kernelspec": {
   "display_name": "Python 3",
   "language": "python",
   "name": "python3"
  },
  "language_info": {
   "codemirror_mode": {
    "name": "ipython",
    "version": 3
   },
   "file_extension": ".py",
   "mimetype": "text/x-python",
   "name": "python",
   "nbconvert_exporter": "python",
   "pygments_lexer": "ipython3",
   "version": "3.11.3"
  }
 },
 "nbformat": 4,
 "nbformat_minor": 2
}
