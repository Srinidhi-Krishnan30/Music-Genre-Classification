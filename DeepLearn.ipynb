{
 "cells": [
  {
   "cell_type": "code",
   "execution_count": 3,
   "metadata": {},
   "outputs": [],
   "source": [
    "import pandas as pd\n",
    "import numpy as np\n",
    "from sklearn.model_selection import train_test_split\n",
    "from sklearn.preprocessing import StandardScaler\n",
    "from keras.models import Sequential\n",
    "from keras.layers import Dense\n",
    "\n",
    "# Step 1: Data Preprocessing\n",
    "# Load the two CSV files\n",
    "\n",
    "data = pd.read_csv(\"song_artist.csv\")"
   ]
  },
  {
   "cell_type": "code",
   "execution_count": 4,
   "metadata": {},
   "outputs": [],
   "source": [
    "#create a new code popularity based on the weighted sum\n",
    "weights = {\n",
    "    'acousticness': 0.1,\n",
    "    'danceability': 0.2,\n",
    "    'energy': 0.3,\n",
    "    'instrumentalness': 0.1,\n",
    "    'liveness': 0.1,\n",
    "    'speechiness': 0.2\n",
    "}"
   ]
  },
  {
   "cell_type": "code",
   "execution_count": 5,
   "metadata": {},
   "outputs": [],
   "source": [
    "data['popularity'] = (data['acousticness'] * weights['acousticness'] +\n",
    "                      data['danceability'] * weights['danceability'] +\n",
    "                      data['energy'] * weights['energy'] +\n",
    "                      data['instrumentalness'] * weights['instrumentalness'] +\n",
    "                      data['liveness'] * weights['liveness'] +\n",
    "                      data['speechiness'] * weights['speechiness'])\n",
    "\n",
    "# Normalize the popularity score to a range between 0 and 100 (optional)\n",
    "data['popularity'] = (data['popularity'] - data['popularity'].min()) / (data['popularity'].max() - data['popularity'].min()) * 100"
   ]
  },
  {
   "cell_type": "code",
   "execution_count": 6,
   "metadata": {},
   "outputs": [
    {
     "data": {
      "text/plain": [
       "id                           int64\n",
       "name                        object\n",
       "artists                     object\n",
       "acousticness               float64\n",
       "danceability               float64\n",
       "energy                     float64\n",
       "instrumentalness           float64\n",
       "liveness                   float64\n",
       "speechiness                float64\n",
       "acousticness_artist        float64\n",
       "danceability_artist        float64\n",
       "energy_artist              float64\n",
       "instrumentalness_artist    float64\n",
       "liveness_artist            float64\n",
       "speechiness_artist         float64\n",
       "popularity                 float64\n",
       "dtype: object"
      ]
     },
     "execution_count": 6,
     "metadata": {},
     "output_type": "execute_result"
    }
   ],
   "source": [
    "data.dtypes"
   ]
  },
  {
   "cell_type": "code",
   "execution_count": 7,
   "metadata": {},
   "outputs": [],
   "source": [
    "y = data['popularity']\n",
    "X = data.drop(columns=['name', 'artists', 'id', 'popularity'])\n",
    "\n",
    "\n",
    "# Split the data into training and testing sets\n",
    "X_train, X_test, y_train, y_test = train_test_split(X, y, test_size=0.2, random_state=42)\n",
    "\n",
    "# Scale the features\n",
    "scaler = StandardScaler()\n",
    "X_train_scaled = scaler.fit_transform(X_train)\n",
    "X_test_scaled = scaler.transform(X_test)\n"
   ]
  },
  {
   "cell_type": "code",
   "execution_count": 8,
   "metadata": {},
   "outputs": [
    {
     "name": "stdout",
     "output_type": "stream",
     "text": [
      "Top 5 Songs with Highest Popularity:\n",
      "57589. The Improv Fairy Tale by Mitch Hedberg\n",
      "55834. Pissed Off by Dane Cook\n",
      "79913. The World on Fire by Jim Morrison\n",
      "52090. Free Dog by Bill Burr\n",
      "56160. You know who's a great lady? by John Mulaney\n"
     ]
    }
   ],
   "source": [
    "sorted_data = data.sort_values(by='popularity', ascending=False)\n",
    "\n",
    "# Display the top 5 songs with highest popularity\n",
    "top_songs = sorted_data.head(5)\n",
    "print(\"Top 5 Songs with Highest Popularity:\")\n",
    "for i, song in top_songs.iterrows():\n",
    "    print(f\"{i+1}. {song['name']} by {song['artists']}\")"
   ]
  },
  {
   "cell_type": "code",
   "execution_count": 9,
   "metadata": {},
   "outputs": [],
   "source": [
    "user_feedback = []\n",
    "for i, song in top_songs.iterrows():\n",
    "    feedback = input(f\"On a scale of 1 to 10, how much do you like '{song['name']}' by {song['artists']}? \")\n",
    "    user_feedback.append(float(feedback))"
   ]
  },
  {
   "cell_type": "code",
   "execution_count": null,
   "metadata": {},
   "outputs": [
    {
     "name": "stdout",
     "output_type": "stream",
     "text": [
      "Epoch 1/10\n",
      "2176/2176 [==============================] - 5s 2ms/step - loss: 126.1343 - val_loss: 2.6427\n",
      "Epoch 2/10\n",
      "2176/2176 [==============================] - 3s 2ms/step - loss: 0.6468 - val_loss: 0.1315\n",
      "Epoch 3/10\n",
      "2176/2176 [==============================] - 3s 1ms/step - loss: 0.0569 - val_loss: 0.0427\n",
      "Epoch 4/10\n",
      "2176/2176 [==============================] - 3s 2ms/step - loss: 0.0241 - val_loss: 0.0164\n",
      "Epoch 5/10\n",
      "2176/2176 [==============================] - 3s 2ms/step - loss: 0.0167 - val_loss: 0.0171\n",
      "Epoch 6/10\n",
      "2176/2176 [==============================] - 3s 1ms/step - loss: 0.0138 - val_loss: 0.0154\n",
      "Epoch 7/10\n",
      "2176/2176 [==============================] - 4s 2ms/step - loss: 0.0106 - val_loss: 0.0170\n",
      "Epoch 8/10\n",
      "2176/2176 [==============================] - 4s 2ms/step - loss: 0.0088 - val_loss: 0.0428\n",
      "Epoch 9/10\n",
      "2176/2176 [==============================] - 4s 2ms/step - loss: 0.0076 - val_loss: 0.0034\n",
      "Epoch 10/10\n",
      "2176/2176 [==============================] - 3s 2ms/step - loss: 0.0063 - val_loss: 0.0303\n"
     ]
    },
    {
     "data": {
      "text/plain": [
       "<keras.src.callbacks.History at 0x20127c971d0>"
      ]
     },
     "execution_count": 10,
     "metadata": {},
     "output_type": "execute_result"
    }
   ],
   "source": [
    "\n",
    "# Step 2: Model Training\n",
    "# Define and train a deep learning model\n",
    "model = Sequential()\n",
    "model.add(Dense(64, activation='relu', input_shape=(X_train_scaled.shape[1],)))\n",
    "model.add(Dense(32, activation='relu'))\n",
    "model.add(Dense(1, activation='linear'))  # Linear activation for regression task\n",
    "model.compile(optimizer='adam', loss='mean_squared_error')\n",
    "model.fit(X_train_scaled, y_train, epochs=10, batch_size=32, validation_data=(X_test_scaled, y_test))"
   ]
  },
  {
   "cell_type": "code",
   "execution_count": null,
   "metadata": {},
   "outputs": [],
   "source": [
    "# Step 3: Recommendation Generation\n",
    "# Use the trained model to generate recommendations for the user\n",
    "def generate_recommendations(model, user_feedback):\n",
    "    # Convert user feedback to an array format that can be used for predictions\n",
    "    user_data = np.zeros((1, len(data.columns)))\n",
    "    print(user_data)\n",
    "    for song_index, feedback_rating in user_feedback.items():\n",
    "        user_data[0, song_index] = feedback_rating\n",
    "    \n",
    "    user_data_scaled = scaler.transform(user_data)\n",
    "    predictions = model.predict(user_data_scaled)\n",
    "    # Return top 5 recommended songs based on predictions\n",
    "    top_recommendations_indices = np.argsort(predictions.flatten())[-5:][::-1]\n",
    "    return top_recommendations_indices\n"
   ]
  },
  {
   "cell_type": "code",
   "execution_count": null,
   "metadata": {},
   "outputs": [],
   "source": [
    "# Step 4: Feedback Incorporation\n",
    "# Collect feedback from the user and update the model's predictions\n",
    "def collect_feedback(predictions, user_feedback):\n",
    "    # Incorporate user feedback and update the model\n",
    "    # For simplicity, we assume user_feedback is a list of indices of liked songs\n",
    "    return predictions"
   ]
  },
  {
   "cell_type": "code",
   "execution_count": null,
   "metadata": {},
   "outputs": [
    {
     "ename": "NameError",
     "evalue": "name 'model' is not defined",
     "output_type": "error",
     "traceback": [
      "\u001b[1;31m---------------------------------------------------------------------------\u001b[0m",
      "\u001b[1;31mNameError\u001b[0m                                 Traceback (most recent call last)",
      "Cell \u001b[1;32mIn[2], line 5\u001b[0m\n\u001b[0;32m      1\u001b[0m \u001b[38;5;66;03m# Step 5: Repeat Recommendations\u001b[39;00m\n\u001b[0;32m      2\u001b[0m \u001b[38;5;66;03m# Repeat recommendation process until user is satisfied or a stopping condition is met\u001b[39;00m\n\u001b[0;32m      3\u001b[0m \u001b[38;5;28;01mwhile\u001b[39;00m \u001b[38;5;28;01mTrue\u001b[39;00m:\n\u001b[0;32m      4\u001b[0m     \u001b[38;5;66;03m# Generate recommendations based on user feedback\u001b[39;00m\n\u001b[1;32m----> 5\u001b[0m     recommendations \u001b[38;5;241m=\u001b[39m generate_recommendations(\u001b[43mmodel\u001b[49m, user_feedback)\n\u001b[0;32m      7\u001b[0m     \u001b[38;5;28mprint\u001b[39m(\u001b[38;5;124m\"\u001b[39m\u001b[38;5;130;01m\\n\u001b[39;00m\u001b[38;5;124mRecommended songs:\u001b[39m\u001b[38;5;124m\"\u001b[39m)\n\u001b[0;32m      8\u001b[0m     \u001b[38;5;28;01mfor\u001b[39;00m i, song_index \u001b[38;5;129;01min\u001b[39;00m \u001b[38;5;28menumerate\u001b[39m(recommendations):\n",
      "\u001b[1;31mNameError\u001b[0m: name 'model' is not defined"
     ]
    }
   ],
   "source": [
    "# Step 5: Repeat Recommendations\n",
    "# Repeat recommendation process until user is satisfied or a stopping condition is met\n",
    "while True:\n",
    "    # Generate recommendations based on user feedback\n",
    "    recommendations = generate_recommendations(model, user_feedback)\n",
    "\n",
    "    print(\"\\nRecommended songs:\")\n",
    "    for i, song_index in enumerate(recommendations):\n",
    "        print(f\"{i+1}. {data.iloc[song_index]['name']} by {data.iloc[song_index]['artists']}\")\n",
    "    \n",
    "    # Collect feedback from the user\n",
    "    user_feedback = {}\n",
    "    for i, song_index in enumerate(recommendations):\n",
    "        feedback = input(f\"On a scale of 1 to 10, how much do you like '{data.iloc[song_index]['name']}' by {data.iloc[song_index]['artists']}? \")\n",
    "        user_feedback[song_index] = float(feedback)\n",
    "    \n",
    "    satisfied = input(\"\\nAre you satisfied with the recommendations? (yes/no): \")\n",
    "    if satisfied.lower() == 'yes':\n",
    "        break\n"
   ]
  },
  {
   "cell_type": "code",
   "execution_count": null,
   "metadata": {},
   "outputs": [],
   "source": []
  }
 ],
 "metadata": {
  "kernelspec": {
   "display_name": "Python 3",
   "language": "python",
   "name": "python3"
  },
  "language_info": {
   "codemirror_mode": {
    "name": "ipython",
    "version": 3
   },
   "file_extension": ".py",
   "mimetype": "text/x-python",
   "name": "python",
   "nbconvert_exporter": "python",
   "pygments_lexer": "ipython3",
   "version": "3.11.3"
  }
 },
 "nbformat": 4,
 "nbformat_minor": 2
}
